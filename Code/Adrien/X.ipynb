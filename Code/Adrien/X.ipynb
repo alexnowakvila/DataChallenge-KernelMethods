{
 "cells": [
  {
   "cell_type": "code",
   "execution_count": 1,
   "metadata": {
    "collapsed": true
   },
   "outputs": [],
   "source": [
    "import numpy as np"
   ]
  },
  {
   "cell_type": "code",
   "execution_count": 2,
   "metadata": {
    "collapsed": true
   },
   "outputs": [],
   "source": [
    "import sys\n",
    "sys.path.insert(0, '/home/adrien/MVA/KERNEL/DataChallenge-KernelMethods/Code/Alex/')\n",
    "\n",
    "from utils import *\n",
    "from svm import *"
   ]
  },
  {
   "cell_type": "markdown",
   "metadata": {},
   "source": [
    "# --Data--"
   ]
  },
  {
   "cell_type": "code",
   "execution_count": 3,
   "metadata": {
    "collapsed": true
   },
   "outputs": [],
   "source": [
    "folder = '/home/adrien/MVA/KERNEL/DataChallenge-KernelMethods/Data/'"
   ]
  },
  {
   "cell_type": "code",
   "execution_count": 4,
   "metadata": {
    "collapsed": true
   },
   "outputs": [],
   "source": [
    "dataset = 0"
   ]
  },
  {
   "cell_type": "code",
   "execution_count": 5,
   "metadata": {
    "collapsed": true
   },
   "outputs": [],
   "source": [
    "data = read_data(folder, dataset=dataset)"
   ]
  },
  {
   "cell_type": "code",
   "execution_count": 7,
   "metadata": {},
   "outputs": [
    {
     "name": "stdout",
     "output_type": "stream",
     "text": [
      "dict_keys(['Ytr', 'Xtr_mat50', 'Xtr', 'Xte_mat50', 'Xte'])\n"
     ]
    }
   ],
   "source": [
    "print(data.keys())"
   ]
  },
  {
   "cell_type": "markdown",
   "metadata": {},
   "source": [
    "# --Substring kernel--"
   ]
  },
  {
   "cell_type": "code",
   "execution_count": 41,
   "metadata": {
    "collapsed": true
   },
   "outputs": [],
   "source": [
    "def substring_kernel(x, y, gamma, k):\n",
    "    \"\"\"\n",
    "    x, y: input strings\n",
    "    gamma: real value\n",
    "    k: length of substring\n",
    "    \n",
    "    compute substring kernel distance between x and y\n",
    "    \"\"\"\n",
    "    \n",
    "    N = len(x)\n",
    "    M = len(y)\n",
    "    grid_B = np.zeros((M, N, k+1))\n",
    "    grid_B[:, :, 0] += np.ones((M, N))\n",
    "    grid_K = np.zeros((M, N, k+1))\n",
    "    \n",
    "    for p in range(1, k+1):\n",
    "        for i in range(M):\n",
    "            for j in range(N):\n",
    "                \n",
    "                if min(i+1, j+1) < p:\n",
    "                    continue\n",
    "                \n",
    "                sum_B = 0\n",
    "                sum_K = 0\n",
    "                \n",
    "                if p == 1 and j == 0:\n",
    "                    \n",
    "                    for n, a in enumerate(y[0:i+1]):\n",
    "                        \n",
    "                        if a == x[0]:\n",
    "                            \n",
    "                            sum_B += gamma ** (i+1-n)\n",
    "                            sum_K += gamma ** 2\n",
    "                    \n",
    "                    grid_B[i, 0, 1] = gamma * sum_B\n",
    "                    grid_K[i, 0, 1] = sum_K\n",
    "                 \n",
    "                else:\n",
    "                    \n",
    "                    for n in range(1, i+1):\n",
    "                        \n",
    "                        if y[n] == x[j]:\n",
    "                            \n",
    "                            sum_B += grid_B[n-1, j-1, p-1] * (gamma ** (i-n+2))\n",
    "                            sum_K += grid_B[n-1, j-1, p-1]\n",
    "                    \n",
    "                    grid_B[i, j, p] = gamma * grid_B[i, j-1, p] + sum_B\n",
    "                    grid_K[i, j, p] = grid_K[i, j-1, p] + (gamma ** 2) * sum_K\n",
    "    \n",
    "    return grid_K[M-1, N-1, k]"
   ]
  },
  {
   "cell_type": "code",
   "execution_count": 43,
   "metadata": {},
   "outputs": [
    {
     "data": {
      "text/plain": [
       "1.0813440000000005"
      ]
     },
     "execution_count": 43,
     "metadata": {},
     "output_type": "execute_result"
    }
   ],
   "source": [
    "substring_kernel('cat', 'cat', 0.8, 2)"
   ]
  },
  {
   "cell_type": "code",
   "execution_count": 39,
   "metadata": {},
   "outputs": [],
   "source": [
    "def f(x):\n",
    "    \n",
    "    return 2*(x**4) + x**6"
   ]
  },
  {
   "cell_type": "code",
   "execution_count": 44,
   "metadata": {},
   "outputs": [
    {
     "data": {
      "text/plain": [
       "1.0813440000000003"
      ]
     },
     "execution_count": 44,
     "metadata": {},
     "output_type": "execute_result"
    }
   ],
   "source": [
    "f(0.8)"
   ]
  },
  {
   "cell_type": "markdown",
   "metadata": {},
   "source": [
    "# --Main--"
   ]
  },
  {
   "cell_type": "markdown",
   "metadata": {},
   "source": [
    "parameters"
   ]
  },
  {
   "cell_type": "code",
   "execution_count": 6,
   "metadata": {
    "collapsed": true
   },
   "outputs": [],
   "source": [
    "test_size = 0.25\n",
    "tau = 1e-6\n",
    "k = 4\n",
    "gamma = 0.5"
   ]
  },
  {
   "cell_type": "markdown",
   "metadata": {},
   "source": [
    "data"
   ]
  },
  {
   "cell_type": "code",
   "execution_count": 7,
   "metadata": {
    "collapsed": true
   },
   "outputs": [],
   "source": [
    "from sklearn.model_selection import train_test_split"
   ]
  },
  {
   "cell_type": "code",
   "execution_count": 8,
   "metadata": {
    "collapsed": true
   },
   "outputs": [],
   "source": [
    "X = data['Xtr']\n",
    "Y = data['Ytr']"
   ]
  },
  {
   "cell_type": "code",
   "execution_count": 9,
   "metadata": {
    "collapsed": true
   },
   "outputs": [],
   "source": [
    "X_train, X_test, Y_train, Y_test = (train_test_split(X, Y, test_size=test_size))"
   ]
  },
  {
   "cell_type": "markdown",
   "metadata": {},
   "source": [
    "model - train"
   ]
  },
  {
   "cell_type": "code",
   "execution_count": 11,
   "metadata": {
    "collapsed": true
   },
   "outputs": [],
   "source": [
    "from dev import *"
   ]
  },
  {
   "cell_type": "code",
   "execution_count": null,
   "metadata": {},
   "outputs": [],
   "source": [
    "Kernel = Kernel_Substring(k, gamma)\n",
    "svm_dual = kernel_SVM(tau, X_train, Y_train, Kernel, dual=True)"
   ]
  },
  {
   "cell_type": "markdown",
   "metadata": {},
   "source": [
    "model - test"
   ]
  },
  {
   "cell_type": "code",
   "execution_count": null,
   "metadata": {
    "collapsed": true
   },
   "outputs": [],
   "source": [
    "x_sol, alpha, acc_train = svm_dual.svm_solver(solver='cvxopt')\n",
    "acc_test = svm_dual.compute_accuracy(X_test, Y_test, alpha)\n",
    "print('acc_train', acc_train)\n",
    "print('acc_test', acc_test)\n",
    "print('DUAL OPTIMIZATION FINISHED')"
   ]
  },
  {
   "cell_type": "code",
   "execution_count": 16,
   "metadata": {},
   "outputs": [
    {
     "data": {
      "text/plain": [
       "100"
      ]
     },
     "execution_count": 16,
     "metadata": {},
     "output_type": "execute_result"
    }
   ],
   "source": [
    "len(X_train[0])"
   ]
  }
 ],
 "metadata": {
  "kernelspec": {
   "display_name": "kernel",
   "language": "python",
   "name": "kernel"
  },
  "language_info": {
   "codemirror_mode": {
    "name": "ipython",
    "version": 3
   },
   "file_extension": ".py",
   "mimetype": "text/x-python",
   "name": "python",
   "nbconvert_exporter": "python",
   "pygments_lexer": "ipython3",
   "version": "3.5.2"
  }
 },
 "nbformat": 4,
 "nbformat_minor": 2
}
