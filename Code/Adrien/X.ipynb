{
 "cells": [
  {
   "cell_type": "code",
   "execution_count": 181,
   "metadata": {
    "collapsed": true
   },
   "outputs": [],
   "source": [
    "import numpy as np\n",
    "import time"
   ]
  },
  {
   "cell_type": "code",
   "execution_count": 2,
   "metadata": {
    "collapsed": true
   },
   "outputs": [],
   "source": [
    "import sys\n",
    "sys.path.insert(0, '/home/adrien/MVA/KERNEL/DataChallenge-KernelMethods/Code/Alex/')\n",
    "\n",
    "from utils import *\n",
    "from svm import *"
   ]
  },
  {
   "cell_type": "markdown",
   "metadata": {},
   "source": [
    "# --Data--"
   ]
  },
  {
   "cell_type": "code",
   "execution_count": 3,
   "metadata": {
    "collapsed": true
   },
   "outputs": [],
   "source": [
    "folder = '/home/adrien/MVA/KERNEL/DataChallenge-KernelMethods/Data/'"
   ]
  },
  {
   "cell_type": "code",
   "execution_count": 4,
   "metadata": {
    "collapsed": true
   },
   "outputs": [],
   "source": [
    "dataset = 0"
   ]
  },
  {
   "cell_type": "code",
   "execution_count": 5,
   "metadata": {
    "collapsed": true
   },
   "outputs": [],
   "source": [
    "data = read_data(folder, dataset=dataset)"
   ]
  },
  {
   "cell_type": "code",
   "execution_count": 6,
   "metadata": {},
   "outputs": [
    {
     "name": "stdout",
     "output_type": "stream",
     "text": [
      "dict_keys(['Xtr_mat50', 'Ytr', 'Xte_mat50', 'Xte', 'Xtr'])\n"
     ]
    }
   ],
   "source": [
    "print(data.keys())"
   ]
  },
  {
   "cell_type": "markdown",
   "metadata": {},
   "source": [
    "# --Substring kernel--"
   ]
  },
  {
   "cell_type": "code",
   "execution_count": 171,
   "metadata": {
    "collapsed": true
   },
   "outputs": [],
   "source": [
    "def K(s, t, gamma, N):\n",
    "    \n",
    "    if N < 2:\n",
    "        print('works only if N > 1')\n",
    "        return False\n",
    "    \n",
    "    S = len(s)\n",
    "    T = len(t)\n",
    "    grid = np.ones((S, T, N))\n",
    "    grid_K = np.zeros((S, T))\n",
    "    \n",
    "    for p in range(1, N):\n",
    "        for i in range(S):\n",
    "            for j in range(T):\n",
    "                      \n",
    "                if min(i+1, j+1) < p:\n",
    "                    grid[i, j, p] = 0\n",
    "\n",
    "                elif p == 1 and i == 0:\n",
    "\n",
    "                    sum_gamma = 0\n",
    "\n",
    "                    for n, a in enumerate(t[0:j+1]):\n",
    "                        if a == s[0]:\n",
    "                            sum_gamma += gamma**(j+1-n)\n",
    "                    \n",
    "                    grid[i, j, p] = gamma * sum_gamma\n",
    "\n",
    "                else:\n",
    "\n",
    "                    sum_gamma = 0\n",
    "\n",
    "                    for n, a in enumerate(t[0:j+1]):\n",
    "                        if a == s[i]:\n",
    "                            sum_gamma += grid[i-1, n-1, p-1] * (gamma**(j-n+2))\n",
    "\n",
    "                    grid[i, j, p] = gamma * grid[i-1, j, p] + sum_gamma  \n",
    "                \n",
    "    for i in range(S):\n",
    "        for j in range(T):         \n",
    "                \n",
    "            if min(i+1, j+1) < N:\n",
    "                continue\n",
    "\n",
    "            else:\n",
    "\n",
    "                sum_gamma = 0\n",
    "\n",
    "                for n, a in enumerate(t[0:j+1]):\n",
    "                    if a == s[i]:\n",
    "                        sum_gamma += grid[i-1, n-1, N-1] * (gamma**2)\n",
    "\n",
    "                grid_K[i, j] = grid_K[i-1, j] + sum_gamma\n",
    "\n",
    "    \n",
    "    return grid_K[S-1, T-1]  "
   ]
  },
  {
   "cell_type": "code",
   "execution_count": 153,
   "metadata": {
    "collapsed": true
   },
   "outputs": [],
   "source": [
    "def alignment(K_1, K_2):\n",
    "    \n",
    "    if K_1.shape != K_2.shape:\n",
    "        return False\n",
    "    \n",
    "    return np.sum(K_1*K_2) / np.sqrt(np.sum(K_1*K_1) * np.sum(K_2*K_2))"
   ]
  },
  {
   "cell_type": "code",
   "execution_count": 163,
   "metadata": {
    "collapsed": true
   },
   "outputs": [],
   "source": [
    "def normalize(K):\n",
    "    \n",
    "    n = K.shape[0]\n",
    "    k = np.expand_dims(1./np.sqrt(np.diag(K)), 1)\n",
    "    kkt = np.dot(k, k.T)\n",
    "    K = K * kkt\n",
    "    return K"
   ]
  },
  {
   "cell_type": "markdown",
   "metadata": {},
   "source": [
    "# --Approx kernel--"
   ]
  },
  {
   "cell_type": "code",
   "execution_count": 183,
   "metadata": {
    "collapsed": true
   },
   "outputs": [],
   "source": [
    "nb_points = 2000"
   ]
  },
  {
   "cell_type": "code",
   "execution_count": 184,
   "metadata": {
    "collapsed": true
   },
   "outputs": [],
   "source": [
    "k = 4\n",
    "l = 0.8"
   ]
  },
  {
   "cell_type": "code",
   "execution_count": 185,
   "metadata": {
    "collapsed": true
   },
   "outputs": [],
   "source": [
    "Xtr = data['Xtr'][0:nb_points]"
   ]
  },
  {
   "cell_type": "code",
   "execution_count": 186,
   "metadata": {
    "collapsed": true
   },
   "outputs": [],
   "source": [
    "alphabet = ['A', 'C', 'T', 'G']"
   ]
  },
  {
   "cell_type": "code",
   "execution_count": 187,
   "metadata": {
    "collapsed": true
   },
   "outputs": [],
   "source": [
    "substrings = []"
   ]
  },
  {
   "cell_type": "code",
   "execution_count": 188,
   "metadata": {
    "collapsed": true
   },
   "outputs": [],
   "source": [
    "for i1 in alphabet:\n",
    "    for i2 in alphabet:\n",
    "        for i3 in alphabet:\n",
    "            for i4 in alphabet:\n",
    "                \n",
    "                if i1+i2+i3+i4 not in substrings:\n",
    "                    substrings.append(i1+i2+i3+i4)"
   ]
  },
  {
   "cell_type": "code",
   "execution_count": 189,
   "metadata": {
    "collapsed": true
   },
   "outputs": [],
   "source": [
    "def gram_matrix(X, substrings, l, k):\n",
    "    \"\"\"\n",
    "    X: input data matrix\n",
    "    substrings: list of possible substrings\n",
    "    l, k: parameter of kernel\n",
    "    \"\"\"\n",
    "    \n",
    "    N = len(X)\n",
    "    M = len(substrings)\n",
    "    features = np.zeros((N, M))\n",
    "    \n",
    "    start = time.time()\n",
    "    \n",
    "    for i in tqdm(range(N)):\n",
    "        for j in range(M):\n",
    "            \n",
    "            features[i, j] = K(X[i], substrings[j], l, k)\n",
    "    \n",
    "    K_matrix = np.zeros((N, N))\n",
    "    \n",
    "    for i in range(N):\n",
    "    \n",
    "        K_matrix[i, i] = features[i, :].T.dot(features[i, :]) \n",
    "        for j in range(i+1, N):\n",
    "\n",
    "            K_matrix[i, j] = features[i, :].T.dot(features[j, :]) \n",
    "            K_matrix[j, i] = K_matrix[i, j]\n",
    "    \n",
    "    print('Gram matrix computed in {} min'.format((time.time() - start)/float(60)))\n",
    "    \n",
    "    return K_matrix"
   ]
  },
  {
   "cell_type": "code",
   "execution_count": null,
   "metadata": {},
   "outputs": [
    {
     "name": "stderr",
     "output_type": "stream",
     "text": [
      " 15%|█▌        | 307/2000 [02:43<15:02,  1.88it/s]"
     ]
    }
   ],
   "source": [
    "K_approx = gram_matrix(Xtr, substrings, l, k)"
   ]
  },
  {
   "cell_type": "code",
   "execution_count": 190,
   "metadata": {},
   "outputs": [],
   "source": [
    "np.savetxt('K0_4_08.txt', normalize(K_approx))"
   ]
  },
  {
   "cell_type": "markdown",
   "metadata": {},
   "source": [
    "# --Main--"
   ]
  },
  {
   "cell_type": "markdown",
   "metadata": {},
   "source": [
    "parameters"
   ]
  },
  {
   "cell_type": "code",
   "execution_count": 6,
   "metadata": {
    "collapsed": true
   },
   "outputs": [],
   "source": [
    "test_size = 0.25\n",
    "tau = 1e-6\n",
    "k = 4\n",
    "gamma = 0.5"
   ]
  },
  {
   "cell_type": "markdown",
   "metadata": {},
   "source": [
    "data"
   ]
  },
  {
   "cell_type": "code",
   "execution_count": 7,
   "metadata": {
    "collapsed": true
   },
   "outputs": [],
   "source": [
    "from sklearn.model_selection import train_test_split"
   ]
  },
  {
   "cell_type": "code",
   "execution_count": 8,
   "metadata": {
    "collapsed": true
   },
   "outputs": [],
   "source": [
    "X = data['Xtr']\n",
    "Y = data['Ytr']"
   ]
  },
  {
   "cell_type": "code",
   "execution_count": 9,
   "metadata": {
    "collapsed": true
   },
   "outputs": [],
   "source": [
    "X_train, X_test, Y_train, Y_test = (train_test_split(X, Y, test_size=test_size))"
   ]
  },
  {
   "cell_type": "markdown",
   "metadata": {},
   "source": [
    "model - train"
   ]
  },
  {
   "cell_type": "code",
   "execution_count": 11,
   "metadata": {
    "collapsed": true
   },
   "outputs": [],
   "source": [
    "from dev import *"
   ]
  },
  {
   "cell_type": "code",
   "execution_count": null,
   "metadata": {
    "collapsed": true
   },
   "outputs": [],
   "source": [
    "Kernel = Kernel_Substring(k, gamma)\n",
    "svm_dual = kernel_SVM(tau, X_train, Y_train, Kernel, dual=True)"
   ]
  },
  {
   "cell_type": "markdown",
   "metadata": {},
   "source": [
    "model - test"
   ]
  },
  {
   "cell_type": "code",
   "execution_count": null,
   "metadata": {
    "collapsed": true
   },
   "outputs": [],
   "source": [
    "x_sol, alpha, acc_train = svm_dual.svm_solver(solver='cvxopt')\n",
    "acc_test = svm_dual.compute_accuracy(X_test, Y_test, alpha)\n",
    "print('acc_train', acc_train)\n",
    "print('acc_test', acc_test)\n",
    "print('DUAL OPTIMIZATION FINISHED')"
   ]
  },
  {
   "cell_type": "code",
   "execution_count": 16,
   "metadata": {},
   "outputs": [
    {
     "data": {
      "text/plain": [
       "100"
      ]
     },
     "execution_count": 16,
     "metadata": {},
     "output_type": "execute_result"
    }
   ],
   "source": [
    "len(X_train[0])"
   ]
  }
 ],
 "metadata": {
  "kernelspec": {
   "display_name": "kernel",
   "language": "python",
   "name": "kernel"
  },
  "language_info": {
   "codemirror_mode": {
    "name": "ipython",
    "version": 3
   },
   "file_extension": ".py",
   "mimetype": "text/x-python",
   "name": "python",
   "nbconvert_exporter": "python",
   "pygments_lexer": "ipython3",
   "version": "3.5.2"
  }
 },
 "nbformat": 4,
 "nbformat_minor": 2
}
