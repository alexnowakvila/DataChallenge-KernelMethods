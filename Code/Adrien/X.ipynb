{
 "cells": [
  {
   "cell_type": "code",
   "execution_count": 1,
   "metadata": {
    "collapsed": true
   },
   "outputs": [],
   "source": [
    "import numpy as np"
   ]
  },
  {
   "cell_type": "code",
   "execution_count": 2,
   "metadata": {
    "collapsed": true
   },
   "outputs": [],
   "source": [
    "import sys\n",
    "sys.path.insert(0, '/home/adrien/MVA/KERNEL/DataChallenge-KernelMethods/Code/Alex/')\n",
    "\n",
    "from utils import *\n",
    "from svm import *"
   ]
  },
  {
   "cell_type": "markdown",
   "metadata": {},
   "source": [
    "# --Data--"
   ]
  },
  {
   "cell_type": "code",
   "execution_count": 3,
   "metadata": {
    "collapsed": true
   },
   "outputs": [],
   "source": [
    "folder = '/home/adrien/MVA/KERNEL/DataChallenge-KernelMethods/Data/'"
   ]
  },
  {
   "cell_type": "code",
   "execution_count": 4,
   "metadata": {
    "collapsed": true
   },
   "outputs": [],
   "source": [
    "dataset = 0"
   ]
  },
  {
   "cell_type": "code",
   "execution_count": 5,
   "metadata": {
    "collapsed": true
   },
   "outputs": [],
   "source": [
    "data = read_data(folder, dataset=dataset)"
   ]
  },
  {
   "cell_type": "code",
   "execution_count": 6,
   "metadata": {},
   "outputs": [
    {
     "name": "stdout",
     "output_type": "stream",
     "text": [
      "dict_keys(['Xtr', 'Xte', 'Xtr_mat50', 'Ytr', 'Xte_mat50'])\n"
     ]
    }
   ],
   "source": [
    "print(data.keys())"
   ]
  },
  {
   "cell_type": "markdown",
   "metadata": {},
   "source": [
    "# --Substring kernel--"
   ]
  },
  {
   "cell_type": "code",
   "execution_count": 11,
   "metadata": {
    "collapsed": true
   },
   "outputs": [],
   "source": [
    "def substring_kernel(x, y, gamma, k):\n",
    "    \"\"\"\n",
    "    x, y: input strings\n",
    "    gamma: real value\n",
    "    k: length of substring\n",
    "    \n",
    "    compute substring kernel distance between x and y\n",
    "    \"\"\"\n",
    "    \n",
    "    N = len(x)\n",
    "    M = len(y)\n",
    "    grid_B = np.zeros((M, N, k+1))\n",
    "    grid_B[:, :, 0] += np.ones((M, N))\n",
    "    grid_K = np.zeros((M, N, k+1))\n",
    "    \n",
    "    for p in range(1, k+1):\n",
    "        for i in range(M):\n",
    "            for j in range(N):\n",
    "                \n",
    "                if min(i+1, j+1) < p:\n",
    "                    continue\n",
    "                \n",
    "                sum_B = 0\n",
    "                sum_K = 0\n",
    "                \n",
    "                if p == 1 and j == 0:\n",
    "                    \n",
    "                    for n, a in enumerate(y[0:i+1]):\n",
    "                        \n",
    "                        if a == x[0]:\n",
    "                            \n",
    "                            sum_B += gamma ** (i+1-n)\n",
    "                            sum_K += gamma ** 2\n",
    "                    \n",
    "                    grid_B[i, 0, 1] = gamma * sum_B\n",
    "                    grid_K[i, 0, 1] = sum_K\n",
    "                 \n",
    "                else:\n",
    "                    \n",
    "                    for n in range(1, i+1):\n",
    "                        \n",
    "                        if y[n] == x[j]:\n",
    "                            \n",
    "                            sum_B += grid_B[n-1, j-1, p-1] * (gamma ** (i-n+2))\n",
    "                            sum_K += grid_B[n-1, j-1, p-1]\n",
    "                    \n",
    "                    grid_B[i, j, p] = gamma * grid_B[i, j-1, p] + sum_B\n",
    "                    grid_K[i, j, p] = grid_K[i, j-1, p] + (gamma ** 2) * sum_K\n",
    "    \n",
    "    return grid_K[M-1, N-1, k]"
   ]
  },
  {
   "cell_type": "code",
   "execution_count": 12,
   "metadata": {},
   "outputs": [
    {
     "data": {
      "text/plain": [
       "0.0"
      ]
     },
     "execution_count": 12,
     "metadata": {},
     "output_type": "execute_result"
    }
   ],
   "source": [
    "substring_kernel('lpax', 'mnih', 0.8, 2)"
   ]
  },
  {
   "cell_type": "markdown",
   "metadata": {},
   "source": [
    "# --Approx kernel--"
   ]
  },
  {
   "cell_type": "code",
   "execution_count": 13,
   "metadata": {
    "collapsed": true
   },
   "outputs": [],
   "source": [
    "nb_test = 100"
   ]
  },
  {
   "cell_type": "code",
   "execution_count": 14,
   "metadata": {
    "collapsed": true
   },
   "outputs": [],
   "source": [
    "x_test = data['Xtr'][0:nb_test]"
   ]
  },
  {
   "cell_type": "code",
   "execution_count": 17,
   "metadata": {
    "collapsed": true
   },
   "outputs": [],
   "source": [
    "alphabet = ['A', 'C', 'T', 'G']"
   ]
  },
  {
   "cell_type": "code",
   "execution_count": 27,
   "metadata": {},
   "outputs": [],
   "source": [
    "k = 4\n",
    "l = 0.8"
   ]
  },
  {
   "cell_type": "code",
   "execution_count": 115,
   "metadata": {
    "collapsed": true
   },
   "outputs": [],
   "source": [
    "substrings = []"
   ]
  },
  {
   "cell_type": "code",
   "execution_count": 116,
   "metadata": {},
   "outputs": [],
   "source": [
    "for i1 in alphabet:\n",
    "    for i2 in alphabet:\n",
    "        for i3 in alphabet:\n",
    "            for i4 in alphabet:\n",
    "                \n",
    "                if i1+i2+i3+i4 not in substrings:\n",
    "                    substrings.append(i1+i2+i3+i4)"
   ]
  },
  {
   "cell_type": "code",
   "execution_count": 117,
   "metadata": {},
   "outputs": [
    {
     "data": {
      "text/plain": [
       "256"
      ]
     },
     "execution_count": 117,
     "metadata": {},
     "output_type": "execute_result"
    }
   ],
   "source": [
    "len(substrings)"
   ]
  },
  {
   "cell_type": "code",
   "execution_count": 110,
   "metadata": {
    "collapsed": true
   },
   "outputs": [],
   "source": [
    "features = np.zeros((nb_test, len(alphabet)**k))"
   ]
  },
  {
   "cell_type": "code",
   "execution_count": 111,
   "metadata": {},
   "outputs": [
    {
     "name": "stderr",
     "output_type": "stream",
     "text": [
      "\n",
      "  0%|          | 0/256 [00:00<?, ?it/s]\u001b[A\n",
      " 12%|█▎        | 32/256 [00:00<00:00, 312.44it/s]\u001b[A\n",
      " 27%|██▋       | 70/256 [00:00<00:00, 344.15it/s]\u001b[A\n",
      " 41%|████▏     | 106/256 [00:00<00:00, 347.91it/s]\u001b[A\n",
      " 54%|█████▍    | 138/256 [00:00<00:00, 339.21it/s]\u001b[A\n",
      " 70%|███████   | 180/256 [00:00<00:00, 354.55it/s]\u001b[A\n",
      " 87%|████████▋ | 222/256 [00:00<00:00, 364.36it/s]\u001b[A\n",
      "100%|██████████| 256/256 [00:00<00:00, 367.88it/s]\u001b[A\n",
      "  0%|          | 0/256 [00:00<?, ?it/s]\u001b[A\n",
      " 14%|█▎        | 35/256 [00:00<00:00, 341.83it/s]\u001b[A\n",
      " 30%|██▉       | 76/256 [00:00<00:00, 372.22it/s]\u001b[A\n",
      " 45%|████▌     | 116/256 [00:00<00:00, 378.82it/s]\u001b[A\n",
      " 60%|██████    | 154/256 [00:00<00:00, 376.31it/s]\u001b[A\n",
      " 76%|███████▌  | 195/256 [00:00<00:00, 383.22it/s]\u001b[A\n",
      " 92%|█████████▏| 236/256 [00:00<00:00, 387.17it/s]\u001b[A\n",
      "100%|██████████| 256/256 [00:00<00:00, 385.06it/s]\u001b[A\n",
      "  0%|          | 0/256 [00:00<?, ?it/s]\u001b[A\n",
      " 14%|█▎        | 35/256 [00:00<00:00, 344.61it/s]\u001b[A\n",
      " 29%|██▉       | 75/256 [00:00<00:00, 367.89it/s]\u001b[A\n",
      " 43%|████▎     | 111/256 [00:00<00:00, 364.68it/s]\u001b[A\n",
      " 57%|█████▋    | 147/256 [00:00<00:00, 362.27it/s]\u001b[A\n",
      " 73%|███████▎  | 188/256 [00:00<00:00, 370.87it/s]\u001b[A\n",
      " 90%|████████▉ | 230/256 [00:00<00:00, 378.59it/s]\u001b[A\n",
      "100%|██████████| 256/256 [00:00<00:00, 380.07it/s]\u001b[A\n",
      "  0%|          | 0/256 [00:00<?, ?it/s]\u001b[A\n",
      " 16%|█▌        | 41/256 [00:00<00:00, 404.51it/s]\u001b[A\n",
      " 33%|███▎      | 84/256 [00:00<00:00, 413.96it/s]\u001b[A\n",
      " 48%|████▊     | 123/256 [00:00<00:00, 405.96it/s]\u001b[A\n",
      " 62%|██████▏   | 158/256 [00:00<00:00, 391.57it/s]\u001b[A\n",
      " 78%|███████▊  | 200/256 [00:00<00:00, 396.04it/s]\u001b[A\n",
      " 91%|█████████ | 233/256 [00:00<00:00, 384.14it/s]\u001b[A\n",
      "100%|██████████| 256/256 [00:00<00:00, 385.84it/s]\u001b[A\n",
      "  0%|          | 0/256 [00:00<?, ?it/s]\u001b[A\n",
      " 17%|█▋        | 43/256 [00:00<00:00, 423.28it/s]\u001b[A\n",
      " 30%|██▉       | 76/256 [00:00<00:00, 376.89it/s]\u001b[A\n",
      " 46%|████▌     | 118/256 [00:00<00:00, 390.14it/s]\u001b[A\n",
      " 62%|██████▎   | 160/256 [00:00<00:00, 396.19it/s]\u001b[A\n",
      " 75%|███████▍  | 191/256 [00:00<00:00, 377.13it/s]\u001b[A\n",
      " 91%|█████████ | 232/256 [00:00<00:00, 382.48it/s]\u001b[A\n",
      "100%|██████████| 256/256 [00:00<00:00, 383.08it/s]\u001b[A\n",
      "  0%|          | 0/256 [00:00<?, ?it/s]\u001b[A\n",
      " 15%|█▌        | 39/256 [00:00<00:00, 385.19it/s]\u001b[A\n",
      " 31%|███▏      | 80/256 [00:00<00:00, 393.19it/s]\u001b[A\n",
      " 47%|████▋     | 121/256 [00:00<00:00, 398.86it/s]\u001b[A\n",
      " 61%|██████▏   | 157/256 [00:00<00:00, 388.53it/s]\u001b[A\n",
      " 77%|███████▋  | 198/256 [00:00<00:00, 392.06it/s]\u001b[A\n",
      " 92%|█████████▏| 236/256 [00:00<00:00, 389.86it/s]\u001b[A\n",
      "100%|██████████| 256/256 [00:00<00:00, 389.34it/s]\u001b[A\n",
      "  0%|          | 0/256 [00:00<?, ?it/s]\u001b[A\n",
      " 14%|█▎        | 35/256 [00:00<00:00, 342.04it/s]\u001b[A\n",
      " 30%|███       | 77/256 [00:00<00:00, 377.30it/s]\u001b[A\n",
      " 46%|████▌     | 117/256 [00:00<00:00, 384.45it/s]\u001b[A\n",
      " 62%|██████▏   | 159/256 [00:00<00:00, 391.52it/s]\u001b[A\n",
      " 75%|███████▌  | 193/256 [00:00<00:00, 380.72it/s]\u001b[A\n",
      " 90%|████████▉ | 230/256 [00:00<00:00, 378.57it/s]\u001b[A\n",
      "100%|██████████| 256/256 [00:00<00:00, 368.18it/s]\u001b[A\n",
      "  0%|          | 0/256 [00:00<?, ?it/s]\u001b[A\n",
      " 16%|█▋        | 42/256 [00:00<00:00, 413.48it/s]\u001b[A\n",
      " 32%|███▏      | 83/256 [00:00<00:00, 408.87it/s]\u001b[A\n",
      " 49%|████▉     | 125/256 [00:00<00:00, 411.81it/s]\u001b[A\n",
      " 61%|██████▏   | 157/256 [00:00<00:00, 387.78it/s]\u001b[A\n",
      " 78%|███████▊  | 199/256 [00:00<00:00, 392.51it/s]\u001b[A\n",
      " 94%|█████████▍| 240/256 [00:00<00:00, 394.91it/s]\u001b[A\n",
      "100%|██████████| 256/256 [00:00<00:00, 392.98it/s]\u001b[A\n",
      "  0%|          | 0/256 [00:00<?, ?it/s]\u001b[A\n",
      " 14%|█▎        | 35/256 [00:00<00:00, 344.74it/s]\u001b[A\n",
      " 28%|██▊       | 71/256 [00:00<00:00, 352.31it/s]\u001b[A\n",
      " 42%|████▏     | 107/256 [00:00<00:00, 354.08it/s]\u001b[A\n",
      " 57%|█████▋    | 146/256 [00:00<00:00, 362.70it/s]\u001b[A\n",
      " 71%|███████▏  | 183/256 [00:00<00:00, 363.42it/s]\u001b[A\n",
      " 88%|████████▊ | 225/256 [00:00<00:00, 372.50it/s]\u001b[A\n",
      "100%|██████████| 256/256 [00:00<00:00, 375.49it/s]\u001b[A\n",
      "  0%|          | 0/256 [00:00<?, ?it/s]\u001b[A\n",
      " 12%|█▏        | 30/256 [00:00<00:00, 296.18it/s]\u001b[A\n",
      " 27%|██▋       | 69/256 [00:00<00:00, 341.28it/s]\u001b[A\n",
      " 43%|████▎     | 111/256 [00:00<00:00, 365.83it/s]\u001b[A\n",
      " 57%|█████▋    | 146/256 [00:00<00:00, 361.80it/s]\u001b[A\n",
      " 73%|███████▎  | 188/256 [00:00<00:00, 372.56it/s]\u001b[A\n",
      " 88%|████████▊ | 226/256 [00:00<00:00, 373.44it/s]\u001b[A\n",
      "100%|██████████| 256/256 [00:00<00:00, 375.97it/s]\u001b[A\n",
      "  0%|          | 0/256 [00:00<?, ?it/s]\u001b[A\n",
      " 12%|█▏        | 30/256 [00:00<00:00, 294.18it/s]\u001b[A\n",
      " 27%|██▋       | 68/256 [00:00<00:00, 334.13it/s]\u001b[A\n",
      " 41%|████      | 104/256 [00:00<00:00, 340.88it/s]\u001b[A\n",
      " 55%|█████▍    | 140/256 [00:00<00:00, 344.67it/s]\u001b[A\n",
      " 70%|███████   | 180/256 [00:00<00:00, 354.61it/s]\u001b[A\n",
      " 84%|████████▍ | 216/256 [00:00<00:00, 354.85it/s]\u001b[A\n",
      " 99%|█████████▉| 254/256 [00:00<00:00, 358.10it/s]\u001b[A\n",
      "100%|██████████| 256/256 [00:00<00:00, 357.45it/s]\u001b[A\n",
      "  0%|          | 0/256 [00:00<?, ?it/s]\u001b[A\n",
      " 66%|██████▌   | 169/256 [00:00<00:00, 418.88it/s]Exception in thread Thread-207:\n",
      "Traceback (most recent call last):\n",
      "  File \"/usr/lib/python3.5/threading.py\", line 914, in _bootstrap_inner\n",
      "    self.run()\n",
      "  File \"/home/adrien/MVA/KERNEL/env3.5/lib/python3.5/site-packages/tqdm/_tqdm.py\", line 148, in run\n",
      "    for instance in self.tqdm_cls._instances:\n",
      "  File \"/home/adrien/MVA/KERNEL/env3.5/lib/python3.5/_weakrefset.py\", line 60, in __iter__\n",
      "    for itemref in self.data:\n",
      "RuntimeError: Set changed size during iteration\n",
      "\n",
      "100%|██████████| 256/256 [00:00<00:00, 422.32it/s]\n",
      "100%|██████████| 256/256 [00:00<00:00, 422.91it/s]\n",
      "100%|██████████| 256/256 [00:00<00:00, 423.48it/s]\n",
      "100%|██████████| 256/256 [00:00<00:00, 402.93it/s]\n",
      "100%|██████████| 256/256 [00:00<00:00, 392.45it/s]\n",
      "100%|██████████| 256/256 [00:00<00:00, 425.17it/s]\n",
      "100%|██████████| 256/256 [00:00<00:00, 421.11it/s]\n",
      "100%|██████████| 256/256 [00:00<00:00, 399.49it/s]\n",
      "100%|██████████| 256/256 [00:00<00:00, 401.30it/s]\n",
      "100%|██████████| 256/256 [00:00<00:00, 388.17it/s]\n",
      "100%|██████████| 256/256 [00:00<00:00, 422.73it/s]\n",
      "100%|██████████| 256/256 [00:00<00:00, 395.12it/s]\n",
      "100%|██████████| 256/256 [00:00<00:00, 424.99it/s]\n",
      "100%|██████████| 256/256 [00:00<00:00, 429.39it/s]\n",
      "100%|██████████| 256/256 [00:00<00:00, 415.01it/s]\n",
      "100%|██████████| 256/256 [00:00<00:00, 419.16it/s]\n",
      "100%|██████████| 256/256 [00:00<00:00, 417.05it/s]\n",
      "100%|██████████| 256/256 [00:00<00:00, 417.10it/s]\n",
      "100%|██████████| 256/256 [00:00<00:00, 429.11it/s]\n",
      "100%|██████████| 256/256 [00:00<00:00, 414.02it/s]\n",
      "100%|██████████| 256/256 [00:00<00:00, 379.09it/s]\n",
      "100%|██████████| 256/256 [00:00<00:00, 397.23it/s]\n",
      "100%|██████████| 256/256 [00:00<00:00, 403.34it/s]\n",
      "100%|██████████| 256/256 [00:00<00:00, 404.25it/s]\n",
      "100%|██████████| 256/256 [00:00<00:00, 417.73it/s]\n",
      "100%|██████████| 256/256 [00:00<00:00, 414.62it/s]\n",
      "100%|██████████| 256/256 [00:00<00:00, 415.86it/s]\n",
      "100%|██████████| 256/256 [00:00<00:00, 419.00it/s]\n",
      "100%|██████████| 256/256 [00:00<00:00, 401.08it/s]\n",
      "100%|██████████| 256/256 [00:00<00:00, 429.47it/s]\n",
      "100%|██████████| 256/256 [00:00<00:00, 413.54it/s]\n",
      "100%|██████████| 256/256 [00:00<00:00, 421.84it/s]\n",
      "100%|██████████| 256/256 [00:00<00:00, 412.86it/s]\n",
      "100%|██████████| 256/256 [00:00<00:00, 407.73it/s]\n",
      "100%|██████████| 256/256 [00:00<00:00, 409.11it/s]\n",
      "100%|██████████| 256/256 [00:00<00:00, 419.87it/s]\n",
      "100%|██████████| 256/256 [00:00<00:00, 406.41it/s]\n",
      "100%|██████████| 256/256 [00:00<00:00, 426.28it/s]\n",
      "100%|██████████| 256/256 [00:00<00:00, 425.03it/s]\n",
      "100%|██████████| 256/256 [00:00<00:00, 424.82it/s]\n",
      "100%|██████████| 256/256 [00:00<00:00, 413.56it/s]\n",
      "100%|██████████| 256/256 [00:00<00:00, 411.73it/s]\n",
      "100%|██████████| 256/256 [00:00<00:00, 427.48it/s]\n",
      "100%|██████████| 256/256 [00:00<00:00, 429.77it/s]\n",
      "100%|██████████| 256/256 [00:00<00:00, 413.79it/s]\n",
      "100%|██████████| 256/256 [00:00<00:00, 407.47it/s]\n",
      "100%|██████████| 256/256 [00:00<00:00, 412.51it/s]\n",
      "100%|██████████| 256/256 [00:00<00:00, 407.92it/s]\n",
      "100%|██████████| 256/256 [00:00<00:00, 408.32it/s]\n",
      "100%|██████████| 256/256 [00:00<00:00, 406.99it/s]\n",
      "100%|██████████| 256/256 [00:00<00:00, 409.96it/s]\n",
      "100%|██████████| 256/256 [00:00<00:00, 414.99it/s]\n",
      "100%|██████████| 256/256 [00:00<00:00, 416.48it/s]\n",
      "100%|██████████| 256/256 [00:00<00:00, 404.42it/s]\n",
      "100%|██████████| 256/256 [00:00<00:00, 419.45it/s]\n",
      "100%|██████████| 256/256 [00:00<00:00, 405.32it/s]\n",
      "100%|██████████| 256/256 [00:00<00:00, 402.89it/s]\n",
      "100%|██████████| 256/256 [00:00<00:00, 407.41it/s]\n"
     ]
    },
    {
     "name": "stderr",
     "output_type": "stream",
     "text": [
      "100%|██████████| 256/256 [00:00<00:00, 424.13it/s]\n",
      "100%|██████████| 256/256 [00:00<00:00, 419.82it/s]\n",
      "100%|██████████| 256/256 [00:00<00:00, 427.80it/s]\n",
      "100%|██████████| 256/256 [00:00<00:00, 428.33it/s]\n",
      "100%|██████████| 256/256 [00:00<00:00, 431.71it/s]\n",
      "100%|██████████| 256/256 [00:00<00:00, 428.54it/s]\n",
      "100%|██████████| 256/256 [00:00<00:00, 382.34it/s]\n",
      "100%|██████████| 256/256 [00:00<00:00, 403.24it/s]\n",
      "100%|██████████| 256/256 [00:00<00:00, 382.77it/s]\n",
      "100%|██████████| 256/256 [00:00<00:00, 427.85it/s]\n",
      "100%|██████████| 256/256 [00:00<00:00, 423.47it/s]\n",
      "100%|██████████| 256/256 [00:00<00:00, 426.46it/s]\n",
      "100%|██████████| 256/256 [00:00<00:00, 430.15it/s]\n",
      "100%|██████████| 256/256 [00:00<00:00, 423.44it/s]\n",
      "100%|██████████| 256/256 [00:00<00:00, 417.79it/s]\n",
      "100%|██████████| 256/256 [00:00<00:00, 423.50it/s]\n",
      "100%|██████████| 256/256 [00:00<00:00, 420.06it/s]\n",
      "100%|██████████| 256/256 [00:00<00:00, 422.94it/s]\n",
      "100%|██████████| 256/256 [00:00<00:00, 417.21it/s]\n",
      "100%|██████████| 256/256 [00:00<00:00, 421.95it/s]\n",
      "100%|██████████| 256/256 [00:00<00:00, 420.80it/s]\n",
      "100%|██████████| 256/256 [00:00<00:00, 424.78it/s]\n",
      "100%|██████████| 256/256 [00:00<00:00, 416.47it/s]\n",
      "100%|██████████| 256/256 [00:00<00:00, 422.73it/s]\n",
      "100%|██████████| 256/256 [00:00<00:00, 423.45it/s]\n",
      "100%|██████████| 256/256 [00:00<00:00, 421.57it/s]\n",
      "100%|██████████| 256/256 [00:00<00:00, 420.80it/s]\n",
      "100%|██████████| 256/256 [00:00<00:00, 413.50it/s]\n",
      "100%|██████████| 256/256 [00:00<00:00, 422.11it/s]\n",
      "100%|██████████| 256/256 [00:00<00:00, 425.40it/s]\n",
      "100%|██████████| 256/256 [00:00<00:00, 424.67it/s]\n"
     ]
    }
   ],
   "source": [
    "for i in range(nb_test):\n",
    "    for j in tqdm(range(len(substrings))):\n",
    "        \n",
    "        features[i, j] = substring_kernel(x_test[i], substrings[j], l, k)"
   ]
  },
  {
   "cell_type": "code",
   "execution_count": 34,
   "metadata": {
    "collapsed": true
   },
   "outputs": [],
   "source": [
    "K_approx = np.zeros((nb_test, nb_test))\n",
    "K_real = np.zeros((nb_test, nb_test))"
   ]
  },
  {
   "cell_type": "code",
   "execution_count": 70,
   "metadata": {
    "collapsed": true
   },
   "outputs": [],
   "source": [
    "constant = substring_kernel(substrings[0], substrings[0], l, k)"
   ]
  },
  {
   "cell_type": "code",
   "execution_count": 71,
   "metadata": {},
   "outputs": [],
   "source": [
    "for i in range(nb_test):\n",
    "    for j in range(i+1, nb_test):\n",
    "        \n",
    "        K_approx[i, i] = features[i, :].T.dot(features[i, :]) / constant\n",
    "        K_approx[i, j] = features[i, :].T.dot(features[j, :]) / constant\n",
    "        K_approx[j, i] = K_approx[i, j]"
   ]
  },
  {
   "cell_type": "code",
   "execution_count": 36,
   "metadata": {
    "scrolled": true
   },
   "outputs": [
    {
     "name": "stderr",
     "output_type": "stream",
     "text": [
      "100%|██████████| 99/99 [01:55<00:00,  1.17s/it]\n",
      "100%|██████████| 98/98 [01:54<00:00,  1.16s/it]\n",
      "100%|██████████| 97/97 [01:57<00:00,  1.21s/it]\n",
      "100%|██████████| 96/96 [01:59<00:00,  1.24s/it]\n",
      "100%|██████████| 95/95 [01:58<00:00,  1.25s/it]\n",
      "100%|██████████| 94/94 [02:01<00:00,  1.29s/it]\n",
      "100%|██████████| 93/93 [01:56<00:00,  1.25s/it]\n",
      "100%|██████████| 92/92 [01:50<00:00,  1.21s/it]\n",
      "100%|██████████| 91/91 [01:47<00:00,  1.18s/it]\n",
      "100%|██████████| 90/90 [01:43<00:00,  1.15s/it]\n",
      "100%|██████████| 89/89 [01:42<00:00,  1.16s/it]\n",
      "100%|██████████| 88/88 [01:41<00:00,  1.15s/it]\n",
      "100%|██████████| 87/87 [01:41<00:00,  1.17s/it]\n",
      "100%|██████████| 86/86 [01:41<00:00,  1.19s/it]\n",
      "100%|██████████| 85/85 [01:37<00:00,  1.15s/it]\n",
      "100%|██████████| 84/84 [01:39<00:00,  1.18s/it]\n",
      "100%|██████████| 83/83 [01:37<00:00,  1.17s/it]\n",
      "100%|██████████| 82/82 [01:34<00:00,  1.15s/it]\n",
      "100%|██████████| 81/81 [01:33<00:00,  1.15s/it]\n",
      "100%|██████████| 80/80 [01:33<00:00,  1.17s/it]\n",
      "100%|██████████| 79/79 [01:31<00:00,  1.15s/it]\n",
      "100%|██████████| 78/78 [01:32<00:00,  1.18s/it]\n",
      "100%|██████████| 77/77 [01:32<00:00,  1.20s/it]\n",
      "100%|██████████| 76/76 [01:28<00:00,  1.16s/it]\n",
      "100%|██████████| 75/75 [01:29<00:00,  1.20s/it]\n",
      "100%|██████████| 74/74 [01:25<00:00,  1.15s/it]\n",
      "100%|██████████| 73/73 [01:24<00:00,  1.16s/it]\n",
      "100%|██████████| 72/72 [01:25<00:00,  1.18s/it]\n",
      "100%|██████████| 71/71 [01:26<00:00,  1.22s/it]\n",
      "100%|██████████| 70/70 [01:27<00:00,  1.25s/it]\n",
      "100%|██████████| 69/69 [01:22<00:00,  1.20s/it]\n",
      "100%|██████████| 68/68 [01:18<00:00,  1.15s/it]\n",
      "100%|██████████| 67/67 [01:18<00:00,  1.17s/it]\n",
      "100%|██████████| 66/66 [01:18<00:00,  1.18s/it]\n",
      "100%|██████████| 65/65 [01:23<00:00,  1.28s/it]\n",
      "100%|██████████| 64/64 [01:13<00:00,  1.15s/it]\n",
      "100%|██████████| 63/63 [01:14<00:00,  1.17s/it]\n",
      "100%|██████████| 62/62 [01:12<00:00,  1.16s/it]\n",
      "100%|██████████| 61/61 [01:14<00:00,  1.22s/it]\n",
      "100%|██████████| 60/60 [01:09<00:00,  1.16s/it]\n",
      "100%|██████████| 59/59 [01:09<00:00,  1.17s/it]\n",
      "100%|██████████| 58/58 [01:07<00:00,  1.16s/it]\n",
      "100%|██████████| 57/57 [01:10<00:00,  1.24s/it]\n",
      "100%|██████████| 56/56 [01:04<00:00,  1.15s/it]\n",
      "100%|██████████| 55/55 [01:04<00:00,  1.18s/it]\n",
      "100%|██████████| 54/54 [01:04<00:00,  1.19s/it]\n",
      "100%|██████████| 53/53 [01:03<00:00,  1.19s/it]\n",
      "100%|██████████| 52/52 [00:59<00:00,  1.15s/it]\n",
      "100%|██████████| 51/51 [01:00<00:00,  1.19s/it]\n",
      "100%|██████████| 50/50 [00:57<00:00,  1.16s/it]\n",
      "100%|██████████| 49/49 [00:57<00:00,  1.17s/it]\n",
      "100%|██████████| 48/48 [00:54<00:00,  1.14s/it]\n",
      "100%|██████████| 47/47 [00:56<00:00,  1.20s/it]\n",
      "100%|██████████| 46/46 [00:54<00:00,  1.18s/it]\n",
      "100%|██████████| 45/45 [00:54<00:00,  1.20s/it]\n",
      "100%|██████████| 44/44 [00:53<00:00,  1.22s/it]\n",
      "100%|██████████| 43/43 [00:50<00:00,  1.18s/it]\n",
      "100%|██████████| 42/42 [00:48<00:00,  1.16s/it]\n",
      "100%|██████████| 41/41 [00:50<00:00,  1.22s/it]\n",
      "100%|██████████| 40/40 [00:46<00:00,  1.15s/it]\n",
      "100%|██████████| 39/39 [00:45<00:00,  1.17s/it]\n",
      "100%|██████████| 38/38 [00:44<00:00,  1.18s/it]\n",
      "100%|██████████| 37/37 [00:42<00:00,  1.16s/it]\n",
      "100%|██████████| 36/36 [00:41<00:00,  1.16s/it]\n",
      "100%|██████████| 35/35 [00:40<00:00,  1.16s/it]\n",
      "100%|██████████| 34/34 [00:39<00:00,  1.17s/it]\n",
      "100%|██████████| 33/33 [00:38<00:00,  1.16s/it]\n",
      "100%|██████████| 32/32 [00:39<00:00,  1.24s/it]\n",
      "100%|██████████| 31/31 [00:36<00:00,  1.18s/it]\n",
      "100%|██████████| 30/30 [00:35<00:00,  1.18s/it]\n",
      "100%|██████████| 29/29 [00:33<00:00,  1.17s/it]\n",
      "100%|██████████| 28/28 [00:33<00:00,  1.20s/it]\n",
      "100%|██████████| 27/27 [00:33<00:00,  1.23s/it]\n",
      "100%|██████████| 26/26 [00:30<00:00,  1.19s/it]\n",
      "100%|██████████| 25/25 [00:29<00:00,  1.20s/it]\n",
      "100%|██████████| 24/24 [00:27<00:00,  1.16s/it]\n",
      "100%|██████████| 23/23 [00:27<00:00,  1.18s/it]\n",
      "100%|██████████| 22/22 [00:25<00:00,  1.18s/it]\n",
      "100%|██████████| 21/21 [00:25<00:00,  1.20s/it]\n",
      "100%|██████████| 20/20 [00:23<00:00,  1.17s/it]\n",
      "100%|██████████| 19/19 [00:24<00:00,  1.31s/it]\n",
      "100%|██████████| 18/18 [00:21<00:00,  1.20s/it]\n",
      "100%|██████████| 17/17 [00:19<00:00,  1.17s/it]\n",
      "100%|██████████| 16/16 [00:18<00:00,  1.17s/it]\n",
      "100%|██████████| 15/15 [00:17<00:00,  1.18s/it]\n",
      "100%|██████████| 14/14 [00:16<00:00,  1.15s/it]\n",
      "100%|██████████| 13/13 [00:15<00:00,  1.18s/it]\n",
      "100%|██████████| 12/12 [00:13<00:00,  1.15s/it]\n",
      "100%|██████████| 11/11 [00:13<00:00,  1.19s/it]\n",
      "100%|██████████| 10/10 [00:11<00:00,  1.15s/it]\n",
      "100%|██████████| 9/9 [00:10<00:00,  1.18s/it]\n",
      "100%|██████████| 8/8 [00:09<00:00,  1.19s/it]\n",
      "100%|██████████| 7/7 [00:08<00:00,  1.17s/it]\n",
      "100%|██████████| 6/6 [00:07<00:00,  1.17s/it]\n",
      "100%|██████████| 5/5 [00:05<00:00,  1.20s/it]\n",
      "100%|██████████| 4/4 [00:04<00:00,  1.21s/it]\n",
      "100%|██████████| 3/3 [00:03<00:00,  1.18s/it]\n",
      "100%|██████████| 2/2 [00:02<00:00,  1.15s/it]\n",
      "100%|██████████| 1/1 [00:01<00:00,  1.15s/it]\n",
      "0it [00:00, ?it/s]\n"
     ]
    }
   ],
   "source": [
    "for i in range(nb_test):\n",
    "    for j in tqdm(range(i+1, nb_test)):\n",
    "        \n",
    "        K_real[i, i] = substring_kernel(x_test[i], x_test[i], l, k)\n",
    "        K_real[i, j] = substring_kernel(x_test[i], x_test[j], l, k)\n",
    "        K_real[j, i] = K_real[i, j]"
   ]
  },
  {
   "cell_type": "code",
   "execution_count": 37,
   "metadata": {
    "collapsed": true
   },
   "outputs": [],
   "source": [
    "def alignment(K_1, K_2):\n",
    "    \n",
    "    if K_1.shape != K_2.shape:\n",
    "        return False\n",
    "    \n",
    "    return np.sum(K_1*K_2) / np.sqrt(np.sum(K_1*K_1) * np.sum(K_2*K_2))"
   ]
  },
  {
   "cell_type": "code",
   "execution_count": 69,
   "metadata": {},
   "outputs": [
    {
     "data": {
      "text/plain": [
       "0.4716830083077102"
      ]
     },
     "execution_count": 69,
     "metadata": {},
     "output_type": "execute_result"
    }
   ],
   "source": [
    "alignment(K_approx, K_real)"
   ]
  },
  {
   "cell_type": "code",
   "execution_count": 60,
   "metadata": {
    "collapsed": true
   },
   "outputs": [],
   "source": [
    "K_base = np.zeros((len(substrings), len(substrings)))"
   ]
  },
  {
   "cell_type": "code",
   "execution_count": 64,
   "metadata": {},
   "outputs": [
    {
     "name": "stderr",
     "output_type": "stream",
     "text": [
      "100%|██████████| 256/256 [00:06<00:00, 41.99it/s]\n"
     ]
    }
   ],
   "source": [
    "for i in tqdm(range(len(substrings))):\n",
    "    for j in range(i+1, len(substrings)):\n",
    "        \n",
    "        K_base[i, i] = substring_kernel(substrings[i], substrings[i], l, k)\n",
    "        K_base[i, j] = substring_kernel(substrings[i], substrings[j], l, k)\n",
    "        K_base[j, i] = K_base[i, j]"
   ]
  },
  {
   "cell_type": "code",
   "execution_count": 93,
   "metadata": {
    "collapsed": true
   },
   "outputs": [],
   "source": [
    "full_alphabet = ['a', 'b', 'c', 'd', 'e', 'f', 'g', 'h', 'i', 'j', 'k', 'l', 'm', 'n', 'o', 'p', 'q', 'r', 's', \n",
    "                 't', 'u', 'v', 'w', 'x', 'y', 'z']"
   ]
  },
  {
   "cell_type": "code",
   "execution_count": 103,
   "metadata": {
    "collapsed": true
   },
   "outputs": [],
   "source": [
    "full_substrings = []"
   ]
  },
  {
   "cell_type": "code",
   "execution_count": 104,
   "metadata": {
    "collapsed": true
   },
   "outputs": [],
   "source": [
    "for x in full_alphabet:\n",
    "    for y in full_alphabet:\n",
    "        \n",
    "        if x+y not in full_substrings:\n",
    "            full_substrings.append(x+y)"
   ]
  },
  {
   "cell_type": "code",
   "execution_count": 249,
   "metadata": {
    "collapsed": true
   },
   "outputs": [],
   "source": [
    "def substring_explicit(subs, lamb, x, y):\n",
    "    \n",
    "    K = 0\n",
    "    \n",
    "    for t in tqdm(range(len(subs))):\n",
    "        \n",
    "        u = subs[t]\n",
    "        l_x = []\n",
    "        l_y = []\n",
    "        \n",
    "        for i1 in range(len(x)):\n",
    "            \n",
    "            if x[i1] == u[0]:\n",
    "                \n",
    "                for i2 in range(i1+1, len(x)):\n",
    "                    \n",
    "                    if x[i2] == u[1]:\n",
    "                        \n",
    "                        l_x.append(i2-i1+1)\n",
    "                        \n",
    "                        \"\"\"\n",
    "                        \n",
    "                        for i3 in range(i2+1, len(x)):\n",
    "                            \n",
    "                            if x[i3] == u[2]:\n",
    "                            \n",
    "                                for i4 in range(i3+1, len(x)):\n",
    "                                \n",
    "                                    if x[i4] == u[3]:\n",
    "                                        \n",
    "                                        l_x.append(i4-i1+1)\n",
    "                        \"\"\"\n",
    "        \n",
    "        for j1 in range(len(y)):\n",
    "            \n",
    "            if y[j1] == u[0]:\n",
    "                \n",
    "                for j2 in range(j1+1, len(y)):\n",
    "                    \n",
    "                    if y[j2] == u[1]:\n",
    "                        \n",
    "                        l_y.append(j2-j1+1)\n",
    "                        \n",
    "                        \"\"\"\n",
    "                        \n",
    "                        for j3 in range(j2+1, len(y)):\n",
    "                            \n",
    "                            if y[j3] == u[2]:\n",
    "                                \n",
    "                                for j4 in range(j3+1, len(y)):\n",
    "                                    \n",
    "                                    if y[j4] == u[3]:\n",
    "                                        \n",
    "                                        l_y.append(j4-j1+1)\n",
    "                        \"\"\"\n",
    "                                                \n",
    "        for i in l_x:\n",
    "            for j in l_y:\n",
    "                \n",
    "                K += lamb**(i+j)\n",
    "        \n",
    "        #print(u, K, l_x, l_y)\n",
    "        \n",
    "    return K"
   ]
  },
  {
   "cell_type": "code",
   "execution_count": 166,
   "metadata": {},
   "outputs": [
    {
     "name": "stderr",
     "output_type": "stream",
     "text": [
      "100%|██████████| 256/256 [00:00<00:00, 6186.72it/s]\n"
     ]
    },
    {
     "data": {
      "text/plain": [
       "693.6131925382224"
      ]
     },
     "execution_count": 166,
     "metadata": {},
     "output_type": "execute_result"
    }
   ],
   "source": [
    "substring_explicit(substrings, l, 'ATCCTGAGCTCCACTACTA', 'ATCCTGAGCTCCACTACTA')"
   ]
  },
  {
   "cell_type": "code",
   "execution_count": 164,
   "metadata": {},
   "outputs": [
    {
     "data": {
      "text/plain": [
       "570.5955243525651"
      ]
     },
     "execution_count": 164,
     "metadata": {},
     "output_type": "execute_result"
    }
   ],
   "source": [
    "substring_kernel('ATCCTGAGCTCCACTACTG', 'ATCCTGAGCTCCACTACTG', l, 4)"
   ]
  },
  {
   "cell_type": "code",
   "execution_count": 153,
   "metadata": {},
   "outputs": [
    {
     "data": {
      "text/plain": [
       "94.9593629624136"
      ]
     },
     "execution_count": 153,
     "metadata": {},
     "output_type": "execute_result"
    }
   ],
   "source": [
    "features[0, :].T.dot(features[0, :]) / constant"
   ]
  },
  {
   "cell_type": "code",
   "execution_count": 162,
   "metadata": {},
   "outputs": [
    {
     "name": "stderr",
     "output_type": "stream",
     "text": [
      "100%|██████████| 256/256 [00:00<00:00, 92166.68it/s]\n"
     ]
    },
    {
     "data": {
      "text/plain": [
       "0.1677721600000001"
      ]
     },
     "execution_count": 162,
     "metadata": {},
     "output_type": "execute_result"
    }
   ],
   "source": [
    "substring_explicit(substrings, l, 'ATCC', 'ATCC')"
   ]
  },
  {
   "cell_type": "code",
   "execution_count": 163,
   "metadata": {},
   "outputs": [
    {
     "data": {
      "text/plain": [
       "0.16777216000000014"
      ]
     },
     "execution_count": 163,
     "metadata": {},
     "output_type": "execute_result"
    }
   ],
   "source": [
    "substring_kernel('ATCC', 'ATCC', l, 4)"
   ]
  },
  {
   "cell_type": "code",
   "execution_count": 265,
   "metadata": {},
   "outputs": [],
   "source": [
    "def K(s, t, gamma, N):\n",
    "    \n",
    "    if N < 2:\n",
    "        print('works only if N > 1')\n",
    "        return False\n",
    "    \n",
    "    S = len(s)\n",
    "    T = len(t)\n",
    "    grid = np.ones((S, T, N), dtype=np.float64)\n",
    "    grid_K = np.zeros((S, T), dtype=np.float64)\n",
    "    \n",
    "    #kernel = 0\n",
    "    \n",
    "    for p in range(1, N):\n",
    "        for i in range(S):\n",
    "            for j in range(T):\n",
    "                      \n",
    "                if min(i+1, j+1) < p:\n",
    "                    grid[i, j, p] = 0\n",
    "\n",
    "                elif p == 1 and i == 0:\n",
    "\n",
    "                    sum_gamma = 0\n",
    "\n",
    "                    for n, a in enumerate(t[0:j+1]):\n",
    "                        if a == s[0]:\n",
    "                            sum_gamma += gamma**(j+1-n)\n",
    "\n",
    "                    grid[i, j, p] = gamma * sum_gamma\n",
    "\n",
    "                else:\n",
    "\n",
    "                    sum_gamma = 0\n",
    "\n",
    "                    for n, a in enumerate(t[0:j+1]):\n",
    "                        if a == s[i]:\n",
    "                            sum_gamma += grid[i-1, n-1, p-1] * (gamma**(j-n+2))\n",
    "\n",
    "                    grid[i, j, p] = gamma * grid[i-1, j, p] + sum_gamma\n",
    "                    \n",
    "    \"\"\"                    \n",
    "    for i in range(N-1, S):\n",
    "        \n",
    "        sum_K = 0\n",
    "        \n",
    "        for n, a in enumerate(t):\n",
    "            sum_K += grid[i-1, n-1, N-1]\n",
    "            \n",
    "        kernel = kernel + sum_K * (gamma**2) \n",
    "        print(kernel)\n",
    "                \n",
    "                \n",
    "    \"\"\"     \n",
    "                \n",
    "    for i in range(S):\n",
    "        for j in range(T):         \n",
    "                \n",
    "            if min(i+1, j+1) < N:\n",
    "                continue\n",
    "\n",
    "            else:\n",
    "\n",
    "                sum_gamma = 0\n",
    "\n",
    "                for n, a in enumerate(t[0:j+1]):\n",
    "                    if a == s[i]:\n",
    "                        sum_gamma += grid[i-1, n-1, N-1] * (gamma**2)\n",
    "\n",
    "                grid_K[i, j] = grid_K[i-1, j] + sum_gamma\n",
    "\n",
    "    \n",
    "    return grid_K[S-1, T-1]\n",
    "                        "
   ]
  },
  {
   "cell_type": "code",
   "execution_count": 276,
   "metadata": {},
   "outputs": [
    {
     "data": {
      "text/plain": [
       "146.79833962651549"
      ]
     },
     "execution_count": 276,
     "metadata": {},
     "output_type": "execute_result"
    }
   ],
   "source": [
    "K('catklbfgiezbkjjgdcjeaehzjazzaahdbevkjhugsdvyrusdbuc', 'azzaahdbevkjhugsdvyrusdbuccatklbfgiezbkjjgdcjeaehzj', 0.8, 2)"
   ]
  },
  {
   "cell_type": "code",
   "execution_count": 169,
   "metadata": {},
   "outputs": [
    {
     "data": {
      "text/plain": [
       "1.0813440000000003"
      ]
     },
     "execution_count": 169,
     "metadata": {},
     "output_type": "execute_result"
    }
   ],
   "source": [
    "2*0.8**4 + 0.8**6"
   ]
  },
  {
   "cell_type": "code",
   "execution_count": 259,
   "metadata": {},
   "outputs": [
    {
     "data": {
      "text/plain": [
       "0.6400000000000001"
      ]
     },
     "execution_count": 259,
     "metadata": {},
     "output_type": "execute_result"
    }
   ],
   "source": [
    "l**2"
   ]
  },
  {
   "cell_type": "code",
   "execution_count": 275,
   "metadata": {},
   "outputs": [
    {
     "name": "stderr",
     "output_type": "stream",
     "text": [
      "100%|██████████| 676/676 [00:00<00:00, 26362.59it/s]\n"
     ]
    },
    {
     "data": {
      "text/plain": [
       "140.42970012608933"
      ]
     },
     "execution_count": 275,
     "metadata": {},
     "output_type": "execute_result"
    }
   ],
   "source": [
    "substring_explicit(full_substrings, 0.8, 'catklbfgiezbkjjgdcjeaehzjazzaahdbevkjhugsdvyrusdbuc', 'azzaahdbevkjhugsdvyrusdbuccatklbfgiezbkjjgdcjeaehzj')"
   ]
  },
  {
   "cell_type": "markdown",
   "metadata": {},
   "source": [
    "# --Main--"
   ]
  },
  {
   "cell_type": "markdown",
   "metadata": {},
   "source": [
    "parameters"
   ]
  },
  {
   "cell_type": "code",
   "execution_count": 6,
   "metadata": {
    "collapsed": true
   },
   "outputs": [],
   "source": [
    "test_size = 0.25\n",
    "tau = 1e-6\n",
    "k = 4\n",
    "gamma = 0.5"
   ]
  },
  {
   "cell_type": "markdown",
   "metadata": {},
   "source": [
    "data"
   ]
  },
  {
   "cell_type": "code",
   "execution_count": 7,
   "metadata": {
    "collapsed": true
   },
   "outputs": [],
   "source": [
    "from sklearn.model_selection import train_test_split"
   ]
  },
  {
   "cell_type": "code",
   "execution_count": 8,
   "metadata": {
    "collapsed": true
   },
   "outputs": [],
   "source": [
    "X = data['Xtr']\n",
    "Y = data['Ytr']"
   ]
  },
  {
   "cell_type": "code",
   "execution_count": 9,
   "metadata": {
    "collapsed": true
   },
   "outputs": [],
   "source": [
    "X_train, X_test, Y_train, Y_test = (train_test_split(X, Y, test_size=test_size))"
   ]
  },
  {
   "cell_type": "markdown",
   "metadata": {},
   "source": [
    "model - train"
   ]
  },
  {
   "cell_type": "code",
   "execution_count": 11,
   "metadata": {
    "collapsed": true
   },
   "outputs": [],
   "source": [
    "from dev import *"
   ]
  },
  {
   "cell_type": "code",
   "execution_count": null,
   "metadata": {
    "collapsed": true
   },
   "outputs": [],
   "source": [
    "Kernel = Kernel_Substring(k, gamma)\n",
    "svm_dual = kernel_SVM(tau, X_train, Y_train, Kernel, dual=True)"
   ]
  },
  {
   "cell_type": "markdown",
   "metadata": {},
   "source": [
    "model - test"
   ]
  },
  {
   "cell_type": "code",
   "execution_count": null,
   "metadata": {
    "collapsed": true
   },
   "outputs": [],
   "source": [
    "x_sol, alpha, acc_train = svm_dual.svm_solver(solver='cvxopt')\n",
    "acc_test = svm_dual.compute_accuracy(X_test, Y_test, alpha)\n",
    "print('acc_train', acc_train)\n",
    "print('acc_test', acc_test)\n",
    "print('DUAL OPTIMIZATION FINISHED')"
   ]
  },
  {
   "cell_type": "code",
   "execution_count": 16,
   "metadata": {},
   "outputs": [
    {
     "data": {
      "text/plain": [
       "100"
      ]
     },
     "execution_count": 16,
     "metadata": {},
     "output_type": "execute_result"
    }
   ],
   "source": [
    "len(X_train[0])"
   ]
  }
 ],
 "metadata": {
  "kernelspec": {
   "display_name": "kernel",
   "language": "python",
   "name": "kernel"
  },
  "language_info": {
   "codemirror_mode": {
    "name": "ipython",
    "version": 3
   },
   "file_extension": ".py",
   "mimetype": "text/x-python",
   "name": "python",
   "nbconvert_exporter": "python",
   "pygments_lexer": "ipython3",
   "version": "3.5.2"
  }
 },
 "nbformat": 4,
 "nbformat_minor": 2
}
