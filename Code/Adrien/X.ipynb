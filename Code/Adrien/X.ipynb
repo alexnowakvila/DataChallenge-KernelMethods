{
 "cells": [
  {
   "cell_type": "code",
   "execution_count": 3,
   "metadata": {
    "collapsed": true
   },
   "outputs": [],
   "source": [
    "import numpy as np"
   ]
  },
  {
   "cell_type": "code",
   "execution_count": 4,
   "metadata": {
    "collapsed": false
   },
   "outputs": [
    {
     "ename": "ModuleNotFoundError",
     "evalue": "No module named 'cvxopt'",
     "output_type": "error",
     "traceback": [
      "\u001b[0;31m---------------------------------------------------------------------------\u001b[0m",
      "\u001b[0;31mModuleNotFoundError\u001b[0m                       Traceback (most recent call last)",
      "\u001b[0;32m<ipython-input-4-2397129d9f3c>\u001b[0m in \u001b[0;36m<module>\u001b[0;34m()\u001b[0m\n\u001b[1;32m      3\u001b[0m \u001b[0;34m\u001b[0m\u001b[0m\n\u001b[1;32m      4\u001b[0m \u001b[0;32mfrom\u001b[0m \u001b[0mutils\u001b[0m \u001b[0;32mimport\u001b[0m \u001b[0;34m*\u001b[0m\u001b[0;34m\u001b[0m\u001b[0m\n\u001b[0;32m----> 5\u001b[0;31m \u001b[0;32mfrom\u001b[0m \u001b[0msvm\u001b[0m \u001b[0;32mimport\u001b[0m \u001b[0;34m*\u001b[0m\u001b[0;34m\u001b[0m\u001b[0m\n\u001b[0m",
      "\u001b[0;32m/home/alexnowak/DataChallenge-KernelMethods/Code/Alex/svm.py\u001b[0m in \u001b[0;36m<module>\u001b[0;34m()\u001b[0m\n\u001b[1;32m      1\u001b[0m \u001b[0;32mimport\u001b[0m \u001b[0mos\u001b[0m\u001b[0;34m\u001b[0m\u001b[0m\n\u001b[1;32m      2\u001b[0m \u001b[0;32mimport\u001b[0m \u001b[0mnumpy\u001b[0m \u001b[0;32mas\u001b[0m \u001b[0mnp\u001b[0m\u001b[0;34m\u001b[0m\u001b[0m\n\u001b[0;32m----> 3\u001b[0;31m \u001b[0;32mimport\u001b[0m \u001b[0mcvxopt\u001b[0m\u001b[0;34m\u001b[0m\u001b[0m\n\u001b[0m\u001b[1;32m      4\u001b[0m \u001b[0;32mfrom\u001b[0m \u001b[0mcvxopt\u001b[0m \u001b[0;32mimport\u001b[0m \u001b[0mmatrix\u001b[0m\u001b[0;34m,\u001b[0m \u001b[0msolvers\u001b[0m\u001b[0;34m\u001b[0m\u001b[0m\n\u001b[1;32m      5\u001b[0m \u001b[0;32mimport\u001b[0m \u001b[0mpdb\u001b[0m\u001b[0;34m\u001b[0m\u001b[0m\n",
      "\u001b[0;31mModuleNotFoundError\u001b[0m: No module named 'cvxopt'"
     ]
    }
   ],
   "source": [
    "import sys\n",
    "sys.path.insert(0, '/home/alexnowak/DataChallenge-KernelMethods/Code/Alex/')\n",
    "\n",
    "from utils import *\n",
    "from svm import *"
   ]
  },
  {
   "cell_type": "markdown",
   "metadata": {},
   "source": [
    "# --Data--"
   ]
  },
  {
   "cell_type": "code",
   "execution_count": null,
   "metadata": {
    "collapsed": true
   },
   "outputs": [],
   "source": [
    "folder = '/home/alexnowak/DataChallenge-KernelMethods/Data/'"
   ]
  },
  {
   "cell_type": "code",
   "execution_count": null,
   "metadata": {
    "collapsed": true
   },
   "outputs": [],
   "source": [
    "dataset = 0"
   ]
  },
  {
   "cell_type": "code",
   "execution_count": null,
   "metadata": {
    "collapsed": true
   },
   "outputs": [],
   "source": [
    "data = read_data(folder, dataset=dataset)"
   ]
  },
  {
   "cell_type": "code",
   "execution_count": null,
   "metadata": {
    "collapsed": false
   },
   "outputs": [],
   "source": [
    "print(data.keys())"
   ]
  },
  {
   "cell_type": "markdown",
   "metadata": {},
   "source": [
    "# --Substring kernel--"
   ]
  },
  {
   "cell_type": "code",
   "execution_count": null,
   "metadata": {
    "collapsed": true
   },
   "outputs": [],
   "source": [
    "def substring_kernel(x, y, gamma, k):\n",
    "    \"\"\"\n",
    "    x, y: input strings\n",
    "    gamma: real value\n",
    "    k: length of substring\n",
    "    \n",
    "    compute substring kernel distance between x and y\n",
    "    \"\"\"\n",
    "    \n",
    "    N = len(x)\n",
    "    M = len(y)\n",
    "    grid_B = np.zeros((M, N, k+1))\n",
    "    grid_B[:, :, 0] += np.ones((M, N))\n",
    "    grid_K = np.zeros((M, N, k+1))\n",
    "    \n",
    "    for p in range(1, k+1):\n",
    "        for i in range(M):\n",
    "            for j in range(N):\n",
    "                \n",
    "                if min(i+1, j+1) < p:\n",
    "                    continue\n",
    "                \n",
    "                sum_B = 0\n",
    "                sum_K = 0\n",
    "                \n",
    "                if p == 1 and j == 0:\n",
    "                    \n",
    "                    for n, a in enumerate(y[0:i+1]):\n",
    "                        \n",
    "                        if a == x[0]:\n",
    "                            \n",
    "                            sum_B += gamma ** (i+1-n)\n",
    "                            sum_K += gamma ** 2\n",
    "                    \n",
    "                    grid_B[i, 0, 1] = gamma * sum_B\n",
    "                    grid_K[i, 0, 1] = sum_K\n",
    "                 \n",
    "                else:\n",
    "                    \n",
    "                    for n in range(1, i+1):\n",
    "                        \n",
    "                        if y[n] == x[j]:\n",
    "                            \n",
    "                            sum_B += grid_B[n-1, j-1, p-1] * (gamma ** (i-n+2))\n",
    "                            sum_K += grid_B[n-1, j-1, p-1]\n",
    "                    \n",
    "                    grid_B[i, j, p] = gamma * grid_B[i, j-1, p] + sum_B\n",
    "                    grid_K[i, j, p] = grid_K[i, j-1, p] + (gamma ** 2) * sum_K\n",
    "    \n",
    "    return grid_K[M-1, N-1, k]"
   ]
  },
  {
   "cell_type": "code",
   "execution_count": null,
   "metadata": {
    "collapsed": false
   },
   "outputs": [],
   "source": [
    "substring_kernel('lpax', 'mnih', 0.8, 2)"
   ]
  },
  {
   "cell_type": "markdown",
   "metadata": {},
   "source": [
    "# --Approx kernel--"
   ]
  },
  {
   "cell_type": "code",
   "execution_count": null,
   "metadata": {
    "collapsed": true
   },
   "outputs": [],
   "source": [
    "nb_test = 100"
   ]
  },
  {
   "cell_type": "code",
   "execution_count": null,
   "metadata": {
    "collapsed": true
   },
   "outputs": [],
   "source": [
    "x_test = data['Xtr'][0:nb_test]"
   ]
  },
  {
   "cell_type": "code",
   "execution_count": null,
   "metadata": {
    "collapsed": true
   },
   "outputs": [],
   "source": [
    "alphabet = ['A', 'C', 'T', 'G']"
   ]
  },
  {
   "cell_type": "code",
   "execution_count": null,
   "metadata": {
    "collapsed": true
   },
   "outputs": [],
   "source": [
    "k = 4\n",
    "l = 0.8"
   ]
  },
  {
   "cell_type": "code",
   "execution_count": null,
   "metadata": {
    "collapsed": true
   },
   "outputs": [],
   "source": [
    "substrings = []"
   ]
  },
  {
   "cell_type": "code",
   "execution_count": null,
   "metadata": {
    "collapsed": true
   },
   "outputs": [],
   "source": [
    "for i1 in alphabet:\n",
    "    for i2 in alphabet:\n",
    "        for i3 in alphabet:\n",
    "            for i4 in alphabet:\n",
    "                \n",
    "                if i1+i2+i3+i4 not in substrings:\n",
    "                    substrings.append(i1+i2+i3+i4)"
   ]
  },
  {
   "cell_type": "code",
   "execution_count": null,
   "metadata": {
    "collapsed": false
   },
   "outputs": [],
   "source": [
    "len(substrings)"
   ]
  },
  {
   "cell_type": "code",
   "execution_count": null,
   "metadata": {
    "collapsed": true
   },
   "outputs": [],
   "source": [
    "features = np.zeros((nb_test, len(alphabet)**k))"
   ]
  },
  {
   "cell_type": "code",
   "execution_count": null,
   "metadata": {
    "collapsed": false
   },
   "outputs": [],
   "source": [
    "for i in range(nb_test):\n",
    "    for j in tqdm(range(len(substrings))):\n",
    "        \n",
    "        features[i, j] = substring_kernel(x_test[i], substrings[j], l, k)"
   ]
  },
  {
   "cell_type": "code",
   "execution_count": null,
   "metadata": {
    "collapsed": true
   },
   "outputs": [],
   "source": [
    "K_approx = np.zeros((nb_test, nb_test))\n",
    "K_real = np.zeros((nb_test, nb_test))"
   ]
  },
  {
   "cell_type": "code",
   "execution_count": null,
   "metadata": {
    "collapsed": true
   },
   "outputs": [],
   "source": [
    "constant = substring_kernel(substrings[0], substrings[0], l, k)"
   ]
  },
  {
   "cell_type": "code",
   "execution_count": null,
   "metadata": {
    "collapsed": true
   },
   "outputs": [],
   "source": [
    "for i in range(nb_test):\n",
    "    for j in range(i+1, nb_test):\n",
    "        \n",
    "        K_approx[i, i] = features[i, :].T.dot(features[i, :]) / constant\n",
    "        K_approx[i, j] = features[i, :].T.dot(features[j, :]) / constant\n",
    "        K_approx[j, i] = K_approx[i, j]"
   ]
  },
  {
   "cell_type": "code",
   "execution_count": null,
   "metadata": {
    "collapsed": false,
    "scrolled": true
   },
   "outputs": [],
   "source": [
    "for i in range(nb_test):\n",
    "    for j in tqdm(range(i+1, nb_test)):\n",
    "        \n",
    "        K_real[i, i] = substring_kernel(x_test[i], x_test[i], l, k)\n",
    "        K_real[i, j] = substring_kernel(x_test[i], x_test[j], l, k)\n",
    "        K_real[j, i] = K_real[i, j]"
   ]
  },
  {
   "cell_type": "code",
   "execution_count": null,
   "metadata": {
    "collapsed": true
   },
   "outputs": [],
   "source": [
    "def alignment(K_1, K_2):\n",
    "    \n",
    "    if K_1.shape != K_2.shape:\n",
    "        return False\n",
    "    \n",
    "    return np.sum(K_1*K_2) / np.sqrt(np.sum(K_1*K_1) * np.sum(K_2*K_2))"
   ]
  },
  {
   "cell_type": "code",
   "execution_count": null,
   "metadata": {
    "collapsed": false
   },
   "outputs": [],
   "source": [
    "alignment(K_approx, K_real)"
   ]
  },
  {
   "cell_type": "code",
   "execution_count": null,
   "metadata": {
    "collapsed": true
   },
   "outputs": [],
   "source": [
    "K_base = np.zeros((len(substrings), len(substrings)))"
   ]
  },
  {
   "cell_type": "code",
   "execution_count": null,
   "metadata": {
    "collapsed": false
   },
   "outputs": [],
   "source": [
    "for i in tqdm(range(len(substrings))):\n",
    "    for j in range(i+1, len(substrings)):\n",
    "        \n",
    "        K_base[i, i] = substring_kernel(substrings[i], substrings[i], l, k)\n",
    "        K_base[i, j] = substring_kernel(substrings[i], substrings[j], l, k)\n",
    "        K_base[j, i] = K_base[i, j]"
   ]
  },
  {
   "cell_type": "code",
   "execution_count": null,
   "metadata": {
    "collapsed": true
   },
   "outputs": [],
   "source": [
    "full_alphabet = ['a', 'b', 'c', 'd', 'e', 'f', 'g', 'h', 'i', 'j', 'k', 'l', 'm', 'n', 'o', 'p', 'q', 'r', 's', \n",
    "                 't', 'u', 'v', 'w', 'x', 'y', 'z']"
   ]
  },
  {
   "cell_type": "code",
   "execution_count": null,
   "metadata": {
    "collapsed": true
   },
   "outputs": [],
   "source": [
    "full_substrings = []"
   ]
  },
  {
   "cell_type": "code",
   "execution_count": null,
   "metadata": {
    "collapsed": true
   },
   "outputs": [],
   "source": [
    "for x in full_alphabet:\n",
    "    for y in full_alphabet:\n",
    "        \n",
    "        if x+y not in full_substrings:\n",
    "            full_substrings.append(x+y)"
   ]
  },
  {
   "cell_type": "code",
   "execution_count": null,
   "metadata": {
    "collapsed": true
   },
   "outputs": [],
   "source": [
    "def substring_explicit(subs, lamb, x, y):\n",
    "    \n",
    "    K = 0\n",
    "    \n",
    "    for t in tqdm(range(len(subs))):\n",
    "        \n",
    "        u = subs[t]\n",
    "        l_x = []\n",
    "        l_y = []\n",
    "        \n",
    "        for i1 in range(len(x)):\n",
    "            \n",
    "            if x[i1] == u[0]:\n",
    "                \n",
    "                for i2 in range(i1+1, len(x)):\n",
    "                    \n",
    "                    if x[i2] == u[1]:\n",
    "                        \n",
    "                        l_x.append(i2-i1+1)\n",
    "                        \n",
    "                        \"\"\"\n",
    "                        \n",
    "                        for i3 in range(i2+1, len(x)):\n",
    "                            \n",
    "                            if x[i3] == u[2]:\n",
    "                            \n",
    "                                for i4 in range(i3+1, len(x)):\n",
    "                                \n",
    "                                    if x[i4] == u[3]:\n",
    "                                        \n",
    "                                        l_x.append(i4-i1+1)\n",
    "                        \"\"\"\n",
    "        \n",
    "        for j1 in range(len(y)):\n",
    "            \n",
    "            if y[j1] == u[0]:\n",
    "                \n",
    "                for j2 in range(j1+1, len(y)):\n",
    "                    \n",
    "                    if y[j2] == u[1]:\n",
    "                        \n",
    "                        l_y.append(j2-j1+1)\n",
    "                        \n",
    "                        \"\"\"\n",
    "                        \n",
    "                        for j3 in range(j2+1, len(y)):\n",
    "                            \n",
    "                            if y[j3] == u[2]:\n",
    "                                \n",
    "                                for j4 in range(j3+1, len(y)):\n",
    "                                    \n",
    "                                    if y[j4] == u[3]:\n",
    "                                        \n",
    "                                        l_y.append(j4-j1+1)\n",
    "                        \"\"\"\n",
    "                                                \n",
    "        for i in l_x:\n",
    "            for j in l_y:\n",
    "                \n",
    "                K += lamb**(i+j)\n",
    "        \n",
    "        #print(u, K, l_x, l_y)\n",
    "        \n",
    "    return K"
   ]
  },
  {
   "cell_type": "code",
   "execution_count": null,
   "metadata": {
    "collapsed": false
   },
   "outputs": [],
   "source": [
    "substring_explicit(substrings, l, 'ATCCTGAGCTCCACTACTA', 'ATCCTGAGCTCCACTACTA')"
   ]
  },
  {
   "cell_type": "code",
   "execution_count": null,
   "metadata": {
    "collapsed": false
   },
   "outputs": [],
   "source": [
    "substring_kernel('ATCCTGAGCTCCACTACTG', 'ATCCTGAGCTCCACTACTG', l, 4)"
   ]
  },
  {
   "cell_type": "code",
   "execution_count": null,
   "metadata": {
    "collapsed": false
   },
   "outputs": [],
   "source": [
    "features[0, :].T.dot(features[0, :]) / constant"
   ]
  },
  {
   "cell_type": "code",
   "execution_count": null,
   "metadata": {
    "collapsed": false
   },
   "outputs": [],
   "source": [
    "substring_explicit(substrings, l, 'ATCC', 'ATCC')"
   ]
  },
  {
   "cell_type": "code",
   "execution_count": null,
   "metadata": {
    "collapsed": false
   },
   "outputs": [],
   "source": [
    "substring_kernel('ATCC', 'ATCC', l, 4)"
   ]
  },
  {
   "cell_type": "code",
   "execution_count": null,
   "metadata": {
    "collapsed": true
   },
   "outputs": [],
   "source": [
    "def K(s, t, gamma, N):\n",
    "    \n",
    "    if N < 2:\n",
    "        print('works only if N > 1')\n",
    "        return False\n",
    "    \n",
    "    S = len(s)\n",
    "    T = len(t)\n",
    "    grid = np.ones((S, T, N), dtype=np.float64)\n",
    "    grid_K = np.zeros((S, T), dtype=np.float64)\n",
    "    \n",
    "    #kernel = 0\n",
    "    \n",
    "    for p in range(1, N):\n",
    "        for i in range(S):\n",
    "            for j in range(T):\n",
    "                      \n",
    "                if min(i+1, j+1) < p:\n",
    "                    grid[i, j, p] = 0\n",
    "\n",
    "                elif p == 1 and i == 0:\n",
    "\n",
    "                    sum_gamma = 0\n",
    "\n",
    "                    for n, a in enumerate(t[0:j+1]):\n",
    "                        if a == s[0]:\n",
    "                            sum_gamma += gamma**(j+1-n)\n",
    "\n",
    "                    grid[i, j, p] = gamma * sum_gamma\n",
    "\n",
    "                else:\n",
    "\n",
    "                    sum_gamma = 0\n",
    "\n",
    "                    for n, a in enumerate(t[0:j+1]):\n",
    "                        if a == s[i]:\n",
    "                            sum_gamma += grid[i-1, n-1, p-1] * (gamma**(j-n+2))\n",
    "\n",
    "                    grid[i, j, p] = gamma * grid[i-1, j, p] + sum_gamma\n",
    "                    \n",
    "    \"\"\"                    \n",
    "    for i in range(N-1, S):\n",
    "        \n",
    "        sum_K = 0\n",
    "        \n",
    "        for n, a in enumerate(t):\n",
    "            sum_K += grid[i-1, n-1, N-1]\n",
    "            \n",
    "        kernel = kernel + sum_K * (gamma**2) \n",
    "        print(kernel)\n",
    "                \n",
    "                \n",
    "    \"\"\"     \n",
    "                \n",
    "    for i in range(S):\n",
    "        for j in range(T):         \n",
    "                \n",
    "            if min(i+1, j+1) < N:\n",
    "                continue\n",
    "\n",
    "            else:\n",
    "\n",
    "                sum_gamma = 0\n",
    "\n",
    "                for n, a in enumerate(t[0:j+1]):\n",
    "                    if a == s[i]:\n",
    "                        sum_gamma += grid[i-1, n-1, N-1] * (gamma**2)\n",
    "\n",
    "                grid_K[i, j] = grid_K[i-1, j] + sum_gamma\n",
    "\n",
    "    \n",
    "    return grid_K[S-1, T-1]\n",
    "                        "
   ]
  },
  {
   "cell_type": "code",
   "execution_count": null,
   "metadata": {
    "collapsed": false
   },
   "outputs": [],
   "source": [
    "K('catklbfgiezbkjjgdcjeaehzjazzaahdbevkjhugsdvyrusdbuc', 'azzaahdbevkjhugsdvyrusdbuccatklbfgiezbkjjgdcjeaehzj', 0.8, 2)"
   ]
  },
  {
   "cell_type": "code",
   "execution_count": null,
   "metadata": {
    "collapsed": false
   },
   "outputs": [],
   "source": [
    "2*0.8**4 + 0.8**6"
   ]
  },
  {
   "cell_type": "code",
   "execution_count": null,
   "metadata": {
    "collapsed": false
   },
   "outputs": [],
   "source": [
    "l**2"
   ]
  },
  {
   "cell_type": "code",
   "execution_count": null,
   "metadata": {
    "collapsed": false
   },
   "outputs": [],
   "source": [
    "substring_explicit(full_substrings, 0.8, 'catklbfgiezbkjjgdcjeaehzjazzaahdbevkjhugsdvyrusdbuc', 'azzaahdbevkjhugsdvyrusdbuccatklbfgiezbkjjgdcjeaehzj')"
   ]
  },
  {
   "cell_type": "markdown",
   "metadata": {},
   "source": [
    "# --Main--"
   ]
  },
  {
   "cell_type": "markdown",
   "metadata": {},
   "source": [
    "parameters"
   ]
  },
  {
   "cell_type": "code",
   "execution_count": null,
   "metadata": {
    "collapsed": true
   },
   "outputs": [],
   "source": [
    "test_size = 0.25\n",
    "tau = 1e-6\n",
    "k = 4\n",
    "gamma = 0.5"
   ]
  },
  {
   "cell_type": "markdown",
   "metadata": {},
   "source": [
    "data"
   ]
  },
  {
   "cell_type": "code",
   "execution_count": null,
   "metadata": {
    "collapsed": true
   },
   "outputs": [],
   "source": [
    "from sklearn.model_selection import train_test_split"
   ]
  },
  {
   "cell_type": "code",
   "execution_count": null,
   "metadata": {
    "collapsed": true
   },
   "outputs": [],
   "source": [
    "X = data['Xtr']\n",
    "Y = data['Ytr']"
   ]
  },
  {
   "cell_type": "code",
   "execution_count": null,
   "metadata": {
    "collapsed": true
   },
   "outputs": [],
   "source": [
    "X_train, X_test, Y_train, Y_test = (train_test_split(X, Y, test_size=test_size))"
   ]
  },
  {
   "cell_type": "markdown",
   "metadata": {},
   "source": [
    "model - train"
   ]
  },
  {
   "cell_type": "code",
   "execution_count": null,
   "metadata": {
    "collapsed": true
   },
   "outputs": [],
   "source": [
    "from dev import *"
   ]
  },
  {
   "cell_type": "code",
   "execution_count": null,
   "metadata": {
    "collapsed": true
   },
   "outputs": [],
   "source": [
    "Kernel = Kernel_Substring(k, gamma)\n",
    "svm_dual = kernel_SVM(tau, X_train, Y_train, Kernel, dual=True)"
   ]
  },
  {
   "cell_type": "markdown",
   "metadata": {},
   "source": [
    "model - test"
   ]
  },
  {
   "cell_type": "code",
   "execution_count": null,
   "metadata": {
    "collapsed": true
   },
   "outputs": [],
   "source": [
    "x_sol, alpha, acc_train = svm_dual.svm_solver(solver='cvxopt')\n",
    "acc_test = svm_dual.compute_accuracy(X_test, Y_test, alpha)\n",
    "print('acc_train', acc_train)\n",
    "print('acc_test', acc_test)\n",
    "print('DUAL OPTIMIZATION FINISHED')"
   ]
  },
  {
   "cell_type": "code",
   "execution_count": null,
   "metadata": {
    "collapsed": false
   },
   "outputs": [],
   "source": [
    "len(X_train[0])"
   ]
  }
 ],
 "metadata": {
  "kernelspec": {
   "display_name": "Python Pytorch env",
   "language": "python",
   "name": "pytorch"
  },
  "language_info": {
   "codemirror_mode": {
    "name": "ipython",
    "version": 3
   },
   "file_extension": ".py",
   "mimetype": "text/x-python",
   "name": "python",
   "nbconvert_exporter": "python",
   "pygments_lexer": "ipython3",
   "version": "3.6.0"
  }
 },
 "nbformat": 4,
 "nbformat_minor": 2
}
