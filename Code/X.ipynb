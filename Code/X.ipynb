{
 "cells": [
  {
   "cell_type": "code",
<<<<<<< HEAD
   "execution_count": 3,
=======
   "execution_count": 181,
>>>>>>> d21b0ed8e79360bbfea3c9bbf2f08ea1c48e6f15
   "metadata": {
    "collapsed": true
   },
   "outputs": [],
   "source": [
    "import numpy as np\n",
    "import time"
   ]
  },
  {
   "cell_type": "code",
   "execution_count": 4,
   "metadata": {
    "collapsed": false
   },
   "outputs": [
    {
     "ename": "ModuleNotFoundError",
     "evalue": "No module named 'cvxopt'",
     "output_type": "error",
     "traceback": [
      "\u001b[0;31m---------------------------------------------------------------------------\u001b[0m",
      "\u001b[0;31mModuleNotFoundError\u001b[0m                       Traceback (most recent call last)",
      "\u001b[0;32m<ipython-input-4-2397129d9f3c>\u001b[0m in \u001b[0;36m<module>\u001b[0;34m()\u001b[0m\n\u001b[1;32m      3\u001b[0m \u001b[0;34m\u001b[0m\u001b[0m\n\u001b[1;32m      4\u001b[0m \u001b[0;32mfrom\u001b[0m \u001b[0mutils\u001b[0m \u001b[0;32mimport\u001b[0m \u001b[0;34m*\u001b[0m\u001b[0;34m\u001b[0m\u001b[0m\n\u001b[0;32m----> 5\u001b[0;31m \u001b[0;32mfrom\u001b[0m \u001b[0msvm\u001b[0m \u001b[0;32mimport\u001b[0m \u001b[0;34m*\u001b[0m\u001b[0;34m\u001b[0m\u001b[0m\n\u001b[0m",
      "\u001b[0;32m/home/alexnowak/DataChallenge-KernelMethods/Code/Alex/svm.py\u001b[0m in \u001b[0;36m<module>\u001b[0;34m()\u001b[0m\n\u001b[1;32m      1\u001b[0m \u001b[0;32mimport\u001b[0m \u001b[0mos\u001b[0m\u001b[0;34m\u001b[0m\u001b[0m\n\u001b[1;32m      2\u001b[0m \u001b[0;32mimport\u001b[0m \u001b[0mnumpy\u001b[0m \u001b[0;32mas\u001b[0m \u001b[0mnp\u001b[0m\u001b[0;34m\u001b[0m\u001b[0m\n\u001b[0;32m----> 3\u001b[0;31m \u001b[0;32mimport\u001b[0m \u001b[0mcvxopt\u001b[0m\u001b[0;34m\u001b[0m\u001b[0m\n\u001b[0m\u001b[1;32m      4\u001b[0m \u001b[0;32mfrom\u001b[0m \u001b[0mcvxopt\u001b[0m \u001b[0;32mimport\u001b[0m \u001b[0mmatrix\u001b[0m\u001b[0;34m,\u001b[0m \u001b[0msolvers\u001b[0m\u001b[0;34m\u001b[0m\u001b[0m\n\u001b[1;32m      5\u001b[0m \u001b[0;32mimport\u001b[0m \u001b[0mpdb\u001b[0m\u001b[0;34m\u001b[0m\u001b[0m\n",
      "\u001b[0;31mModuleNotFoundError\u001b[0m: No module named 'cvxopt'"
     ]
    }
   ],
   "source": [
    "import sys\n",
    "sys.path.insert(0, '/home/alexnowak/DataChallenge-KernelMethods/Code/Alex/')\n",
    "\n",
    "from utils import *\n",
    "from svm import *"
   ]
  },
  {
   "cell_type": "markdown",
   "metadata": {},
   "source": [
    "# --Data--"
   ]
  },
  {
   "cell_type": "code",
   "execution_count": null,
   "metadata": {
    "collapsed": true
   },
   "outputs": [],
   "source": [
    "folder = '/home/alexnowak/DataChallenge-KernelMethods/Data/'"
   ]
  },
  {
   "cell_type": "code",
<<<<<<< HEAD
   "execution_count": 287,
=======
   "execution_count": null,
>>>>>>> 1d049c5239175239d412c52a38e63a0143cf0656
   "metadata": {
    "collapsed": true
   },
   "outputs": [],
   "source": [
    "dataset = 0"
   ]
  },
  {
   "cell_type": "code",
<<<<<<< HEAD
   "execution_count": 283,
=======
   "execution_count": null,
>>>>>>> 1d049c5239175239d412c52a38e63a0143cf0656
   "metadata": {
    "collapsed": true
   },
   "outputs": [],
   "source": [
    "data = read_data(folder, dataset=dataset)"
   ]
  },
  {
<<<<<<< HEAD
=======
   "cell_type": "code",
<<<<<<< HEAD
   "execution_count": null,
   "metadata": {
    "collapsed": false
   },
   "outputs": [],
=======
   "execution_count": 6,
   "metadata": {},
   "outputs": [
    {
     "name": "stdout",
     "output_type": "stream",
     "text": [
      "dict_keys(['Xtr_mat50', 'Ytr', 'Xte_mat50', 'Xte', 'Xtr'])\n"
     ]
    }
   ],
>>>>>>> d21b0ed8e79360bbfea3c9bbf2f08ea1c48e6f15
   "source": [
    "print(data.keys())"
   ]
  },
  {
>>>>>>> 1d049c5239175239d412c52a38e63a0143cf0656
   "cell_type": "markdown",
   "metadata": {},
   "source": [
    "# --Substring kernel--"
   ]
  },
  {
   "cell_type": "code",
<<<<<<< HEAD
   "execution_count": 210,
=======
<<<<<<< HEAD
   "execution_count": null,
=======
   "execution_count": 171,
>>>>>>> d21b0ed8e79360bbfea3c9bbf2f08ea1c48e6f15
>>>>>>> 1d049c5239175239d412c52a38e63a0143cf0656
   "metadata": {
    "collapsed": true
   },
   "outputs": [],
   "source": [
    "def K(s, t, gamma, N):\n",
    "    \n",
    "    if N < 2:\n",
    "        print('works only if N > 1')\n",
    "        return False\n",
    "    \n",
    "    S = len(s)\n",
    "    T = len(t)\n",
    "    grid = np.ones((S, T, N))\n",
    "    grid_K = np.zeros((S, T))\n",
    "    \n",
    "    for p in range(1, N):\n",
    "        for i in range(S):\n",
    "            for j in range(T):\n",
    "                      \n",
    "                if min(i+1, j+1) < p:\n",
    "                    grid[i, j, p] = 0\n",
    "\n",
    "                elif p == 1 and i == 0:\n",
    "\n",
    "                    sum_gamma = 0\n",
    "\n",
    "                    for n, a in enumerate(t[0:j+1]):\n",
    "                        if a == s[0]:\n",
    "                            sum_gamma += gamma**(j+1-n)\n",
    "                    \n",
    "                    grid[i, j, p] = gamma * sum_gamma\n",
    "\n",
    "                else:\n",
    "\n",
    "                    sum_gamma = 0\n",
    "\n",
    "                    for n, a in enumerate(t[0:j+1]):\n",
    "                        if a == s[i]:\n",
    "                            sum_gamma += grid[i-1, n-1, p-1] * (gamma**(j-n+2))\n",
    "\n",
    "                    grid[i, j, p] = gamma * grid[i-1, j, p] + sum_gamma  \n",
    "                \n",
    "    for i in range(S):\n",
    "        for j in range(T):         \n",
    "                \n",
    "            if min(i+1, j+1) < N:\n",
    "                continue\n",
    "\n",
    "            else:\n",
    "\n",
    "                sum_gamma = 0\n",
    "\n",
    "                for n, a in enumerate(t[0:j+1]):\n",
    "                    if a == s[i]:\n",
    "                        sum_gamma += grid[i-1, n-1, N-1] * (gamma**2)\n",
    "\n",
    "                grid_K[i, j] = grid_K[i-1, j] + sum_gamma\n",
    "\n",
    "    \n",
<<<<<<< HEAD
    "    return grid_K[M-1, N-1, k]"
   ]
  },
  {
   "cell_type": "code",
   "execution_count": null,
   "metadata": {
    "collapsed": false
   },
   "outputs": [],
   "source": [
    "substring_kernel('lpax', 'mnih', 0.8, 2)"
   ]
  },
  {
   "cell_type": "markdown",
   "metadata": {},
   "source": [
    "# --Approx kernel--"
=======
    "    return grid_K[S-1, T-1]  "
>>>>>>> d21b0ed8e79360bbfea3c9bbf2f08ea1c48e6f15
   ]
  },
  {
   "cell_type": "code",
<<<<<<< HEAD
   "execution_count": null,
   "metadata": {
    "collapsed": true
   },
   "outputs": [],
   "source": [
    "nb_test = 100"
   ]
  },
  {
   "cell_type": "code",
   "execution_count": null,
   "metadata": {
    "collapsed": true
   },
   "outputs": [],
   "source": [
    "x_test = data['Xtr'][0:nb_test]"
   ]
  },
  {
   "cell_type": "code",
   "execution_count": null,
   "metadata": {
    "collapsed": true
   },
   "outputs": [],
   "source": [
    "alphabet = ['A', 'C', 'T', 'G']"
   ]
  },
  {
   "cell_type": "code",
   "execution_count": null,
   "metadata": {
    "collapsed": true
   },
   "outputs": [],
   "source": [
    "k = 4\n",
    "l = 0.8"
   ]
  },
  {
   "cell_type": "code",
<<<<<<< HEAD
   "execution_count": 211,
=======
   "execution_count": null,
=======
   "execution_count": 153,
>>>>>>> d21b0ed8e79360bbfea3c9bbf2f08ea1c48e6f15
>>>>>>> 1d049c5239175239d412c52a38e63a0143cf0656
   "metadata": {
    "collapsed": true
   },
   "outputs": [],
   "source": [
<<<<<<< HEAD
    "substrings = []"
   ]
  },
  {
   "cell_type": "code",
   "execution_count": null,
   "metadata": {
    "collapsed": true
   },
   "outputs": [],
   "source": [
    "for i1 in alphabet:\n",
    "    for i2 in alphabet:\n",
    "        for i3 in alphabet:\n",
    "            for i4 in alphabet:\n",
    "                \n",
    "                if i1+i2+i3+i4 not in substrings:\n",
    "                    substrings.append(i1+i2+i3+i4)"
   ]
  },
  {
   "cell_type": "code",
   "execution_count": null,
   "metadata": {
    "collapsed": false
   },
   "outputs": [],
   "source": [
    "len(substrings)"
=======
    "def alignment(K_1, K_2):\n",
    "    \n",
    "    if K_1.shape != K_2.shape:\n",
    "        return False\n",
    "    \n",
    "    return np.sum(K_1*K_2) / np.sqrt(np.sum(K_1*K_1) * np.sum(K_2*K_2))"
>>>>>>> d21b0ed8e79360bbfea3c9bbf2f08ea1c48e6f15
   ]
  },
  {
   "cell_type": "code",
<<<<<<< HEAD
   "execution_count": 212,
=======
<<<<<<< HEAD
   "execution_count": null,
=======
   "execution_count": 163,
>>>>>>> d21b0ed8e79360bbfea3c9bbf2f08ea1c48e6f15
>>>>>>> 1d049c5239175239d412c52a38e63a0143cf0656
   "metadata": {
    "collapsed": true
   },
   "outputs": [],
   "source": [
    "def normalize(K):\n",
    "    \n",
    "    n = K.shape[0]\n",
    "    k = np.expand_dims(1./np.sqrt(np.diag(K)), 1)\n",
    "    kkt = np.dot(k, k.T)\n",
    "    K = K * kkt\n",
    "    return K"
   ]
  },
  {
<<<<<<< HEAD
   "cell_type": "code",
   "execution_count": 274,
   "metadata": {},
   "outputs": [],
   "source": [
    "def compute_substrings(alphabet, k, substrings=[]):\n",
    "    \"\"\"\n",
    "    alphabet ex: ['A', 'C', 'T', 'G']\n",
    "    k: len of target substrings\n",
    "    substrings: empty string at first iteration, returned full\n",
    "    \"\"\"\n",
    "    \n",
    "    if k == 0:\n",
    "        return substrings\n",
    "    \n",
    "    elif len(substrings) == 0:\n",
    "        return compute_substrings(alphabet, k-1, alphabet)\n",
    "        \n",
    "    else:\n",
    "        new_list = []\n",
    "        for a in alphabet:\n",
    "            for x in substrings:\n",
    "                \n",
    "                new_list.append(x+a)\n",
    "        \n",
    "        return compute_substrings(alphabet, k-1, new_list)\n",
    "                "
=======
<<<<<<< HEAD
   "cell_type": "code",
   "execution_count": null,
   "metadata": {
    "collapsed": false
   },
   "outputs": [],
   "source": [
    "for i in range(nb_test):\n",
    "    for j in tqdm(range(len(substrings))):\n",
    "        \n",
    "        features[i, j] = substring_kernel(x_test[i], substrings[j], l, k)"
>>>>>>> 1d049c5239175239d412c52a38e63a0143cf0656
   ]
  },
  {
   "cell_type": "code",
<<<<<<< HEAD
   "execution_count": 275,
   "metadata": {},
   "outputs": [],
   "source": [
    "a = compute_substrings(alphabet, 4)"
   ]
  },
  {
   "cell_type": "code",
   "execution_count": 276,
   "metadata": {},
   "outputs": [
    {
     "data": {
      "text/plain": [
       "256"
      ]
     },
     "execution_count": 276,
     "metadata": {},
     "output_type": "execute_result"
    }
   ],
   "source": [
    "len(a)"
   ]
  },
  {
=======
   "execution_count": null,
   "metadata": {
    "collapsed": true
   },
   "outputs": [],
   "source": [
    "K_approx = np.zeros((nb_test, nb_test))\n",
    "K_real = np.zeros((nb_test, nb_test))"
=======
>>>>>>> 1d049c5239175239d412c52a38e63a0143cf0656
   "cell_type": "markdown",
   "metadata": {},
   "source": [
    "# --Approx kernel--"
>>>>>>> d21b0ed8e79360bbfea3c9bbf2f08ea1c48e6f15
   ]
  },
  {
   "cell_type": "code",
<<<<<<< HEAD
   "execution_count": 214,
=======
<<<<<<< HEAD
   "execution_count": null,
=======
   "execution_count": 183,
>>>>>>> d21b0ed8e79360bbfea3c9bbf2f08ea1c48e6f15
>>>>>>> 1d049c5239175239d412c52a38e63a0143cf0656
   "metadata": {
    "collapsed": true
   },
   "outputs": [],
   "source": [
    "nb_points = 10"
   ]
  },
  {
   "cell_type": "code",
<<<<<<< HEAD
   "execution_count": 215,
=======
<<<<<<< HEAD
   "execution_count": null,
   "metadata": {
    "collapsed": true
   },
   "outputs": [],
   "source": [
    "for i in range(nb_test):\n",
    "    for j in range(i+1, nb_test):\n",
    "        \n",
    "        K_approx[i, i] = features[i, :].T.dot(features[i, :]) / constant\n",
    "        K_approx[i, j] = features[i, :].T.dot(features[j, :]) / constant\n",
    "        K_approx[j, i] = K_approx[i, j]"
   ]
  },
  {
   "cell_type": "code",
   "execution_count": null,
   "metadata": {
    "collapsed": false,
    "scrolled": true
   },
   "outputs": [],
   "source": [
    "for i in range(nb_test):\n",
    "    for j in tqdm(range(i+1, nb_test)):\n",
    "        \n",
    "        K_real[i, i] = substring_kernel(x_test[i], x_test[i], l, k)\n",
    "        K_real[i, j] = substring_kernel(x_test[i], x_test[j], l, k)\n",
    "        K_real[j, i] = K_real[i, j]"
   ]
  },
  {
   "cell_type": "code",
   "execution_count": null,
=======
   "execution_count": 184,
>>>>>>> d21b0ed8e79360bbfea3c9bbf2f08ea1c48e6f15
>>>>>>> 1d049c5239175239d412c52a38e63a0143cf0656
   "metadata": {
    "collapsed": true
   },
   "outputs": [],
   "source": [
<<<<<<< HEAD
    "def alignment(K_1, K_2):\n",
    "    \n",
    "    if K_1.shape != K_2.shape:\n",
    "        return False\n",
    "    \n",
    "    return np.sum(K_1*K_2) / np.sqrt(np.sum(K_1*K_1) * np.sum(K_2*K_2))"
   ]
  },
  {
   "cell_type": "code",
   "execution_count": null,
   "metadata": {
    "collapsed": false
   },
   "outputs": [],
   "source": [
    "alignment(K_approx, K_real)"
=======
    "k = 4\n",
    "l = 0.8"
>>>>>>> d21b0ed8e79360bbfea3c9bbf2f08ea1c48e6f15
   ]
  },
  {
   "cell_type": "code",
<<<<<<< HEAD
   "execution_count": 216,
=======
<<<<<<< HEAD
   "execution_count": null,
=======
   "execution_count": 185,
>>>>>>> d21b0ed8e79360bbfea3c9bbf2f08ea1c48e6f15
>>>>>>> 1d049c5239175239d412c52a38e63a0143cf0656
   "metadata": {
    "collapsed": true
   },
   "outputs": [],
   "source": [
<<<<<<< HEAD
    "K_base = np.zeros((len(substrings), len(substrings)))"
   ]
  },
  {
   "cell_type": "code",
   "execution_count": null,
   "metadata": {
    "collapsed": false
   },
   "outputs": [],
   "source": [
    "for i in tqdm(range(len(substrings))):\n",
    "    for j in range(i+1, len(substrings)):\n",
    "        \n",
    "        K_base[i, i] = substring_kernel(substrings[i], substrings[i], l, k)\n",
    "        K_base[i, j] = substring_kernel(substrings[i], substrings[j], l, k)\n",
    "        K_base[j, i] = K_base[i, j]"
=======
    "Xtr = data['Xtr'][0:nb_points]"
>>>>>>> d21b0ed8e79360bbfea3c9bbf2f08ea1c48e6f15
   ]
  },
  {
   "cell_type": "code",
<<<<<<< HEAD
   "execution_count": 217,
=======
<<<<<<< HEAD
   "execution_count": null,
=======
   "execution_count": 186,
>>>>>>> d21b0ed8e79360bbfea3c9bbf2f08ea1c48e6f15
>>>>>>> 1d049c5239175239d412c52a38e63a0143cf0656
   "metadata": {
    "collapsed": true
   },
   "outputs": [],
   "source": [
    "alphabet = ['A', 'C', 'T', 'G']"
   ]
  },
  {
   "cell_type": "code",
<<<<<<< HEAD
   "execution_count": 218,
=======
<<<<<<< HEAD
   "execution_count": null,
=======
   "execution_count": 187,
>>>>>>> d21b0ed8e79360bbfea3c9bbf2f08ea1c48e6f15
>>>>>>> 1d049c5239175239d412c52a38e63a0143cf0656
   "metadata": {
    "collapsed": true
   },
   "outputs": [],
   "source": [
    "substrings = []"
   ]
  },
  {
   "cell_type": "code",
<<<<<<< HEAD
   "execution_count": 219,
=======
<<<<<<< HEAD
   "execution_count": null,
=======
   "execution_count": 188,
>>>>>>> d21b0ed8e79360bbfea3c9bbf2f08ea1c48e6f15
>>>>>>> 1d049c5239175239d412c52a38e63a0143cf0656
   "metadata": {
    "collapsed": true
   },
   "outputs": [],
   "source": [
    "for i1 in alphabet:\n",
    "    for i2 in alphabet:\n",
    "        for i3 in alphabet:\n",
    "            for i4 in alphabet:\n",
    "                \n",
    "                if i1+i2+i3+i4 not in substrings:\n",
    "                    substrings.append(i1+i2+i3+i4)"
   ]
  },
  {
   "cell_type": "code",
<<<<<<< HEAD
   "execution_count": 223,
=======
<<<<<<< HEAD
   "execution_count": null,
=======
   "execution_count": 189,
>>>>>>> d21b0ed8e79360bbfea3c9bbf2f08ea1c48e6f15
>>>>>>> 1d049c5239175239d412c52a38e63a0143cf0656
   "metadata": {
    "collapsed": true
   },
   "outputs": [],
   "source": [
    "def gram_matrix(X, substrings, l, k):\n",
    "    \"\"\"\n",
    "    X: input data matrix\n",
    "    substrings: list of possible substrings\n",
    "    l, k: parameter of kernel\n",
    "    \"\"\"\n",
    "    \n",
    "    N = len(X)\n",
    "    M = len(substrings)\n",
    "    features = np.zeros((N, M))\n",
    "    \n",
<<<<<<< HEAD
    "    for t in tqdm(range(len(subs))):\n",
    "        \n",
    "        u = subs[t]\n",
    "        l_x = []\n",
    "        l_y = []\n",
    "        \n",
    "        for i1 in range(len(x)):\n",
    "            \n",
    "            if x[i1] == u[0]:\n",
    "                \n",
    "                for i2 in range(i1+1, len(x)):\n",
    "                    \n",
    "                    if x[i2] == u[1]:\n",
    "                        \n",
    "                        l_x.append(i2-i1+1)\n",
    "                        \n",
    "                        \"\"\"\n",
    "                        \n",
    "                        for i3 in range(i2+1, len(x)):\n",
    "                            \n",
    "                            if x[i3] == u[2]:\n",
    "                            \n",
    "                                for i4 in range(i3+1, len(x)):\n",
    "                                \n",
    "                                    if x[i4] == u[3]:\n",
    "                                        \n",
    "                                        l_x.append(i4-i1+1)\n",
    "                        \"\"\"\n",
    "        \n",
    "        for j1 in range(len(y)):\n",
    "            \n",
    "            if y[j1] == u[0]:\n",
    "                \n",
    "                for j2 in range(j1+1, len(y)):\n",
    "                    \n",
    "                    if y[j2] == u[1]:\n",
    "                        \n",
    "                        l_y.append(j2-j1+1)\n",
    "                        \n",
    "                        \"\"\"\n",
    "                        \n",
    "                        for j3 in range(j2+1, len(y)):\n",
    "                            \n",
    "                            if y[j3] == u[2]:\n",
    "                                \n",
    "                                for j4 in range(j3+1, len(y)):\n",
    "                                    \n",
    "                                    if y[j4] == u[3]:\n",
    "                                        \n",
    "                                        l_y.append(j4-j1+1)\n",
    "                        \"\"\"\n",
    "                                                \n",
    "        for i in l_x:\n",
    "            for j in l_y:\n",
    "                \n",
    "                K += lamb**(i+j)\n",
    "        \n",
    "        #print(u, K, l_x, l_y)\n",
    "        \n",
    "    return K"
   ]
  },
  {
   "cell_type": "code",
   "execution_count": null,
   "metadata": {
    "collapsed": false
   },
   "outputs": [],
   "source": [
    "substring_explicit(substrings, l, 'ATCCTGAGCTCCACTACTA', 'ATCCTGAGCTCCACTACTA')"
   ]
  },
  {
   "cell_type": "code",
   "execution_count": null,
   "metadata": {
    "collapsed": false
   },
   "outputs": [],
   "source": [
    "substring_kernel('ATCCTGAGCTCCACTACTG', 'ATCCTGAGCTCCACTACTG', l, 4)"
   ]
  },
  {
   "cell_type": "code",
   "execution_count": null,
   "metadata": {
    "collapsed": false
   },
   "outputs": [],
   "source": [
    "features[0, :].T.dot(features[0, :]) / constant"
   ]
  },
  {
   "cell_type": "code",
   "execution_count": null,
   "metadata": {
    "collapsed": false
   },
   "outputs": [],
   "source": [
    "substring_explicit(substrings, l, 'ATCC', 'ATCC')"
   ]
  },
  {
   "cell_type": "code",
   "execution_count": null,
   "metadata": {
    "collapsed": false
   },
   "outputs": [],
   "source": [
    "substring_kernel('ATCC', 'ATCC', l, 4)"
   ]
  },
  {
   "cell_type": "code",
   "execution_count": null,
   "metadata": {
    "collapsed": true
   },
   "outputs": [],
   "source": [
    "def K(s, t, gamma, N):\n",
=======
    "    start = time.time()\n",
>>>>>>> d21b0ed8e79360bbfea3c9bbf2f08ea1c48e6f15
    "    \n",
    "    for i in tqdm(range(N)):\n",
    "        for j in range(M):\n",
    "            \n",
    "            features[i, j] = K(X[i], substrings[j], l, k)\n",
    "    \n",
    "    K_matrix = np.zeros((N, N))\n",
    "    \n",
    "    for i in range(N):\n",
    "    \n",
    "        K_matrix[i, i] = features[i, :].T.dot(features[i, :]) \n",
    "        for j in range(i+1, N):\n",
    "\n",
    "            K_matrix[i, j] = features[i, :].T.dot(features[j, :]) \n",
    "            K_matrix[j, i] = K_matrix[i, j]\n",
    "    \n",
<<<<<<< HEAD
    "    return grid_K[S-1, T-1]\n",
    "                        "
   ]
  },
  {
   "cell_type": "code",
   "execution_count": null,
   "metadata": {
    "collapsed": false
   },
   "outputs": [],
   "source": [
    "K('catklbfgiezbkjjgdcjeaehzjazzaahdbevkjhugsdvyrusdbuc', 'azzaahdbevkjhugsdvyrusdbuccatklbfgiezbkjjgdcjeaehzj', 0.8, 2)"
   ]
  },
  {
   "cell_type": "code",
   "execution_count": null,
   "metadata": {
    "collapsed": false
   },
   "outputs": [],
   "source": [
    "2*0.8**4 + 0.8**6"
=======
    "    print('Gram matrix computed in {} min'.format((time.time() - start)/float(60)))\n",
    "    \n",
    "    return K_matrix"
>>>>>>> d21b0ed8e79360bbfea3c9bbf2f08ea1c48e6f15
   ]
  },
  {
   "cell_type": "code",
<<<<<<< HEAD
   "execution_count": 224,
=======
   "execution_count": null,
<<<<<<< HEAD
   "metadata": {
    "collapsed": false
   },
   "outputs": [],
=======
>>>>>>> 1d049c5239175239d412c52a38e63a0143cf0656
   "metadata": {},
   "outputs": [
    {
     "name": "stderr",
     "output_type": "stream",
     "text": [
      "100%|██████████| 10/10 [00:05<00:00,  1.93it/s]"
     ]
    },
    {
     "name": "stdout",
     "output_type": "stream",
     "text": [
      "Gram matrix computed in 0.08649415969848633 min\n"
     ]
    },
    {
     "name": "stderr",
     "output_type": "stream",
     "text": [
      "\n"
     ]
    }
   ],
>>>>>>> d21b0ed8e79360bbfea3c9bbf2f08ea1c48e6f15
   "source": [
    "K_appro = gram_matrix(Xtr, substrings, l, k)"
   ]
  },
  {
   "cell_type": "code",
<<<<<<< HEAD
   "execution_count": null,
   "metadata": {
    "collapsed": false
   },
=======
   "execution_count": 190,
   "metadata": {},
>>>>>>> d21b0ed8e79360bbfea3c9bbf2f08ea1c48e6f15
   "outputs": [],
   "source": [
    "np.savetxt('K0_4_08.txt', normalize(K_approx))"
   ]
  },
  {
   "cell_type": "markdown",
   "metadata": {},
   "source": [
    "# --Main--"
   ]
  },
  {
   "cell_type": "markdown",
   "metadata": {},
   "source": [
    "parameters"
   ]
  },
  {
   "cell_type": "code",
   "execution_count": null,
   "metadata": {
    "collapsed": true
   },
   "outputs": [],
   "source": [
    "test_size = 0.25\n",
    "tau = 1e-6\n",
    "k = 4\n",
    "gamma = 0.5"
   ]
  },
  {
   "cell_type": "markdown",
   "metadata": {},
   "source": [
    "data"
   ]
  },
  {
   "cell_type": "code",
   "execution_count": null,
   "metadata": {
    "collapsed": true
   },
   "outputs": [],
   "source": [
    "from sklearn.model_selection import train_test_split"
   ]
  },
  {
   "cell_type": "code",
   "execution_count": null,
   "metadata": {
    "collapsed": true
   },
   "outputs": [],
   "source": [
    "X = data['Xtr']\n",
    "Y = data['Ytr']"
   ]
  },
  {
   "cell_type": "code",
   "execution_count": null,
   "metadata": {
    "collapsed": true
   },
   "outputs": [],
   "source": [
    "X_train, X_test, Y_train, Y_test = (train_test_split(X, Y, test_size=test_size))"
   ]
  },
  {
   "cell_type": "markdown",
   "metadata": {},
   "source": [
    "model - train"
   ]
  },
  {
   "cell_type": "code",
   "execution_count": null,
   "metadata": {
    "collapsed": true
   },
   "outputs": [],
   "source": [
    "from dev import *"
   ]
  },
  {
   "cell_type": "code",
   "execution_count": null,
   "metadata": {
    "collapsed": true
   },
   "outputs": [],
   "source": [
    "Kernel = Kernel_Substring(k, gamma)\n",
    "svm_dual = kernel_SVM(tau, X_train, Y_train, Kernel, dual=True)"
   ]
  },
  {
   "cell_type": "markdown",
   "metadata": {},
   "source": [
    "model - test"
   ]
  },
  {
   "cell_type": "code",
   "execution_count": null,
   "metadata": {
    "collapsed": true
   },
   "outputs": [],
   "source": [
    "x_sol, alpha, acc_train = svm_dual.svm_solver(solver='cvxopt')\n",
    "acc_test = svm_dual.compute_accuracy(X_test, Y_test, alpha)\n",
    "print('acc_train', acc_train)\n",
    "print('acc_test', acc_test)\n",
    "print('DUAL OPTIMIZATION FINISHED')"
   ]
  },
  {
   "cell_type": "code",
   "execution_count": null,
   "metadata": {
    "collapsed": false
   },
   "outputs": [],
   "source": [
    "len(X_train[0])"
   ]
  }
 ],
 "metadata": {
  "kernelspec": {
   "display_name": "Python Pytorch env",
   "language": "python",
   "name": "pytorch"
  },
  "language_info": {
   "codemirror_mode": {
    "name": "ipython",
    "version": 3
   },
   "file_extension": ".py",
   "mimetype": "text/x-python",
   "name": "python",
   "nbconvert_exporter": "python",
   "pygments_lexer": "ipython3",
   "version": "3.6.0"
  }
 },
 "nbformat": 4,
 "nbformat_minor": 2
}
